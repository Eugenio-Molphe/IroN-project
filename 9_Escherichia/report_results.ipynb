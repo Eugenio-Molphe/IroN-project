{
 "cells": [
  {
   "cell_type": "code",
   "execution_count": null,
   "metadata": {},
   "outputs": [],
   "source": [
    "##### Eugenio Perez Molphe Montoya #####\n",
    "##### 21.10.2024 #####\n",
    "##### Take the lists of E. coli genomes with iroN, the df with promoters, and the lists with the immunity genes #####\n",
    "##### and create a df with the promoters and the immunity genes, and a Venn diagram of immunity genes vs argR #####"
   ]
  },
  {
   "cell_type": "code",
   "execution_count": 1,
   "metadata": {},
   "outputs": [],
   "source": [
    "# Libraries\n",
    "import pandas as pd\n",
    "import matplotlib.pyplot as plt\n",
    "from matplotlib_venn import venn3\n",
    "from scipy.stats import chi2_contingency"
   ]
  },
  {
   "cell_type": "code",
   "execution_count": 2,
   "metadata": {},
   "outputs": [],
   "source": [
    "# Files\n",
    "df = pd.read_csv(\"/mnt/mnemo5/eugenio/IroN_project/Files/10_Escherichia/promoters_df.csv\", sep='\\t') # Promoters\n",
    "df.rename(columns={'Unnamed: 0': 'Genome'}, inplace=True)\n",
    "df['ArgR'] = ((df['argR'] == 1) | (df['argR2'] == 1)).astype(int)\n",
    "df = df.drop(['argR', 'argR2'], axis=1)\n",
    "df['Genome'] = df['Genome'].apply(lambda x: x + '.1' if not x.endswith('.1') else x)\n",
    "\n",
    "with open(\"/mnt/mnemo5/eugenio/IroN_project/Files/10_Escherichia/Results/Escherichia_w_iroN.txt\") as f:\n",
    "    iroN = f.readlines() # iroN\n",
    "\n",
    "with open(\"/mnt/mnemo5/eugenio/IroN_project/Files/10_Escherichia/Immunity_genes/mchB_list.txt\") as f:\n",
    "    mchB = f.readlines() # Immunity genes: mchB\n",
    "\n",
    "with open(\"/mnt/mnemo5/eugenio/IroN_project/Files/10_Escherichia/Immunity_genes/mchI_list.txt\") as f:\n",
    "    mchI = f.readlines() # Immunity genes: mchI\n",
    "\n",
    "with open(\"/mnt/mnemo5/eugenio/IroN_project/Files/10_Escherichia/Immunity_genes/microcin_list.txt\") as f:\n",
    "    microcin = f.readlines() # Immunity genes: microcin"
   ]
  },
  {
   "cell_type": "code",
   "execution_count": 3,
   "metadata": {},
   "outputs": [],
   "source": [
    "### Functions :D\n",
    "def get_promoters(df, genomesList, geneName):\n",
    "    '''Get the promoters of the genomes in the list and append them the df as a new column'''\n",
    "    # Strip any whitespace from the genomes list\n",
    "    genomesList = [genome.strip() for genome in genomesList]\n",
    "    # Add a new presence/absence column to the df\n",
    "    df[geneName] = df['Genome'].apply(lambda x: 1 if x in genomesList else 0)\n",
    "\n",
    "    return df\n",
    "\n",
    "def chi_test(promoter, df, out):\n",
    "    ''' Perform a chi-squared test of independence between the presence of the immunity genes and the presence of a promoter'''\n",
    "    # Create a contingency table\n",
    "    obs = pd.crosstab(df[promoter], [df['mchB'], df['mchB']])\n",
    "\n",
    "    # Perform the chi-squared test\n",
    "    chi2, p, dof, expected = chi2_contingency(obs)\n",
    "    print(f\"{promoter}: {chi2}, p-value: {p}, dof: {dof}\")\n",
    "\n",
    "    # Write the results to a file\n",
    "    with open(out, 'a') as f:\n",
    "        f.write(f\"{promoter}: {chi2}, p-value: {p}, dof: {dof}\\n\")\n"
   ]
  },
  {
   "cell_type": "code",
   "execution_count": 4,
   "metadata": {},
   "outputs": [
    {
     "name": "stdout",
     "output_type": "stream",
     "text": [
      "              Genome  arcA  crp  deoR  fnr  gcvA  hns  ihf  ilvY  lexA  lrp  \\\n",
      "0    GCA_013039965.1     1    0     0    0     0    0    2     0     0    0   \n",
      "1    GCA_003794675.1     1    0     0    1     0    0    2     1     0    0   \n",
      "2    GCA_017753105.1     0    0     0    0     0    0    0     0     2    0   \n",
      "3    GCA_012609475.1     0    0     0    0     0    0    0     0     1    0   \n",
      "4    GCA_012375295.1     1    0     0    1     0    0    2     1     0    0   \n",
      "..               ...   ...  ...   ...  ...   ...  ...  ...   ...   ...  ...   \n",
      "156  GCA_003686805.1     0    0     0    0     0    0    2     0     0    0   \n",
      "157  GCA_014747345.1     1    0     0    1     0    0    2     1     0    0   \n",
      "158  GCA_002846135.1     0    2     0    0     0    0    0     0     0    0   \n",
      "159  GCA_015094695.1     0    0     2    0     1    0    0     0     0    0   \n",
      "160  GCA_016946115.1     0    0     0    0     0    0    0     0     0    0   \n",
      "\n",
      "     ompR  phoB  purR  rpoD16  rpoD18  rpoD19  rpoH2  tyrR  ArgR  \n",
      "0       0     0     0       0       0       0      0     0     0  \n",
      "1       0     0     0       0       0       0      0     0     0  \n",
      "2       0     0     0       0       0       0      0     0     0  \n",
      "3       0     0     0       0       2       0      1     0     0  \n",
      "4       0     0     0       0       0       0      0     0     0  \n",
      "..    ...   ...   ...     ...     ...     ...    ...   ...   ...  \n",
      "156     0     0     0       0       0       0      0     0     1  \n",
      "157     0     0     0       0       1       0      0     0     0  \n",
      "158     0     0     0       0       0       0      0     0     0  \n",
      "159     0     0     0       0       1       0      1     0     0  \n",
      "160     0     0     0       0       2       0      1     0     0  \n",
      "\n",
      "[161 rows x 20 columns]\n"
     ]
    }
   ],
   "source": [
    "# So names in the DF are not the accession numbers, so I'll change that\n",
    "\n",
    "# Read the two columns CSV file with the accesion codes for the contig names as a dictionary\n",
    "accession_dict = pd.read_csv(\"/mnt/mnemo5/eugenio/IroN_project/Files/10_Escherichia/Results/Escherichia_contig-NCBI_codes.csv\", header=None, index_col=0).to_dict()\n",
    "\n",
    "# Replace the names in the dataframe with the accession numbers\n",
    "df['Genome'] = df['Genome'].apply(lambda x: accession_dict[1][x] if x in accession_dict[1] else x)\n",
    "\n",
    "print(df)"
   ]
  },
  {
   "cell_type": "code",
   "execution_count": 5,
   "metadata": {},
   "outputs": [
    {
     "name": "stdout",
     "output_type": "stream",
     "text": [
      "              Genome  arcA  crp  deoR  fnr  gcvA  hns  ihf  ilvY  lexA  ...  \\\n",
      "0    GCA_013039965.1     1    0     0    0     0    0    2     0     0  ...   \n",
      "1    GCA_003794675.1     1    0     0    1     0    0    2     1     0  ...   \n",
      "2    GCA_017753105.1     0    0     0    0     0    0    0     0     2  ...   \n",
      "3    GCA_012609475.1     0    0     0    0     0    0    0     0     1  ...   \n",
      "4    GCA_012375295.1     1    0     0    1     0    0    2     1     0  ...   \n",
      "..               ...   ...  ...   ...  ...   ...  ...  ...   ...   ...  ...   \n",
      "156  GCA_003686805.1     0    0     0    0     0    0    2     0     0  ...   \n",
      "157  GCA_014747345.1     1    0     0    1     0    0    2     1     0  ...   \n",
      "158  GCA_002846135.1     0    2     0    0     0    0    0     0     0  ...   \n",
      "159  GCA_015094695.1     0    0     2    0     1    0    0     0     0  ...   \n",
      "160  GCA_016946115.1     0    0     0    0     0    0    0     0     0  ...   \n",
      "\n",
      "     purR  rpoD16  rpoD18  rpoD19  rpoH2  tyrR  ArgR  mchB  mchI  microcin  \n",
      "0       0       0       0       0      0     0     0     0     0         0  \n",
      "1       0       0       0       0      0     0     0     0     0         0  \n",
      "2       0       0       0       0      0     0     0     0     0         0  \n",
      "3       0       0       2       0      1     0     0     0     0         0  \n",
      "4       0       0       0       0      0     0     0     0     0         0  \n",
      "..    ...     ...     ...     ...    ...   ...   ...   ...   ...       ...  \n",
      "156     0       0       0       0      0     0     1     0     0         0  \n",
      "157     0       0       1       0      0     0     0     0     0         0  \n",
      "158     0       0       0       0      0     0     0     0     0         0  \n",
      "159     0       0       1       0      1     0     0     0     0         0  \n",
      "160     0       0       2       0      1     0     0     0     0         0  \n",
      "\n",
      "[161 rows x 23 columns]\n"
     ]
    }
   ],
   "source": [
    "# Add a column for each immunity gene\n",
    "df = get_promoters(df, mchB, 'mchB')\n",
    "df = get_promoters(df, mchI, 'mchI')\n",
    "df = get_promoters(df, microcin, 'microcin')\n",
    "\n",
    "# Save the df\n",
    "df.to_csv(\"/mnt/mnemo5/eugenio/IroN_project/Files/10_Escherichia/promoters_df_with_immunity_genes.csv\", sep='\\t', index=False)\n",
    "\n",
    "print(df)"
   ]
  },
  {
   "cell_type": "code",
   "execution_count": 10,
   "metadata": {},
   "outputs": [
    {
     "data": {
      "image/png": "[encoded data removed]",
      "text/plain": [
       "<Figure size 800x800 with 1 Axes>"
      ]
     },
     "metadata": {},
     "output_type": "display_data"
    }
   ],
   "source": [
    "# Time to do the Venn diagram\n",
    "\n",
    "# Select the genes that I want to see the Venn diagram of\n",
    "geneA = 'ArgR'\n",
    "geneB = 'microcin'\n",
    "geneC = 'mchI'\n",
    "\n",
    "# Convert columns to sets (index of genomes that have the gene)\n",
    "setA = set(df[df[geneA] >= 1].index)\n",
    "setB = set(df[df[geneB] >= 1].index)\n",
    "setC = set(df[df[geneC] >= 1].index)\n",
    "\n",
    "# Plot a Venn diagram\n",
    "plt.figure(figsize=(8, 8))\n",
    "\n",
    "# For three genes:\n",
    "venn3([setA, setB, setC], set_labels=('argR', 'microcin', 'mchB'), set_colors=('#90bFF9', 'black', 'grey'))\n",
    "\n",
    "plt.title(\"Venn Diagram of Gene Presence (argR, microcin, mchB) in Genomes\")\n",
    "plt.show()"
   ]
  },
  {
   "cell_type": "code",
   "execution_count": 11,
   "metadata": {},
   "outputs": [
    {
     "name": "stdout",
     "output_type": "stream",
     "text": [
      "ArgR: 1.1133612519006004, p-value: 0.2913524524009886, dof: 1\n",
      "ArgR: 9.64683564227367, p-value: 0.0018967805222174997, dof: 1\n"
     ]
    }
   ],
   "source": [
    "# Chi-squared test for microcin\n",
    "# The path of the output file\n",
    "out = '/mnt/mnemo5/eugenio/IroN_project/Files/10_Escherichia/Results/Chit_sqr.txt'\n",
    "\n",
    "# Chi-squared test for ArgR\n",
    "obs = pd.crosstab(df['microcin'], df['ArgR'])\n",
    "chi2, p, dof, expected = chi2_contingency(obs)\n",
    "print(f\"ArgR: {chi2}, p-value: {p}, dof: {dof}\")\n",
    "with open(out, 'a') as f:\n",
    "    f.write(f\"microcin vs ArgR: {chi2}, p-value: {p}, dof: {dof}\\n\")\n",
    "\n",
    "# Chi-squared test for mchI\n",
    "obs = pd.crosstab(df['microcin'], df['mchB'])\n",
    "chi2, p, dof, expected = chi2_contingency(obs)\n",
    "print(f\"ArgR: {chi2}, p-value: {p}, dof: {dof}\")\n",
    "with open(out, 'a') as f:\n",
    "    f.write(f\"microcin vs mchB: {chi2}, p-value: {p}, dof: {dof}\\n\")"
   ]
  },
  {
   "cell_type": "code",
   "execution_count": 20,
   "metadata": {},
   "outputs": [
    {
     "name": "stdout",
     "output_type": "stream",
     "text": [
      "ArgR: 13.41159352558087, p-value: 0.0002500738823328089, dof: 1\n",
      "ArgR: 0.0844016640709755, p-value: 0.7714187240837298, dof: 1\n",
      "arcA: 0.30713951762100977, p-value: 0.5794408191349135, dof: 1\n",
      "crp: 0.15878364495582498, p-value: 0.9236779357544848, dof: 2\n",
      "deoR: 0.0, p-value: 1.0, dof: 1\n",
      "fnr: 1.542598943872829, p-value: 0.462411786581743, dof: 2\n",
      "gcvA: 0.0, p-value: 1.0, dof: 1\n",
      "hns: 0.0, p-value: 1.0, dof: 1\n",
      "ihf: 2.849748575259806, p-value: 0.24053869999780988, dof: 2\n",
      "ilvY: 1.3112665761720792, p-value: 0.519113210257546, dof: 2\n",
      "lexA: 1.9017950202663578, p-value: 0.38639407518511815, dof: 2\n",
      "lrp: 17.201561536881034, p-value: 0.0001839621057749525, dof: 2\n",
      "ompR: 0.0, p-value: 1.0, dof: 1\n",
      "phoB: 0.0, p-value: 1.0, dof: 1\n",
      "purR: 17.91167728237792, p-value: 0.00012898187837432135, dof: 2\n",
      "rpoD16: 0.0, p-value: 1.0, dof: 1\n",
      "rpoD18: 9.106242038216562, p-value: 0.010534275349851184, dof: 2\n",
      "rpoD19: 0.0, p-value: 1.0, dof: 1\n",
      "rpoH2: 1.0175282674171728, p-value: 0.6012381698333511, dof: 2\n",
      "tyrR: 0.0, p-value: 1.0, dof: 1\n"
     ]
    }
   ],
   "source": [
    "# Chi-squared test\n",
    "\n",
    "# The path of the output file\n",
    "out = '/mnt/mnemo5/eugenio/IroN_project/Files/10_Escherichia/Results/Chit_sqr.txt'\n",
    "\n",
    "\n",
    "\n",
    "### mchB vs mchI\n",
    "# Create a contingency table\n",
    "obs = pd.crosstab(df[geneB], df[geneC])\n",
    "chi2, p, dof, expected = chi2_contingency(obs)\n",
    "print(f\"ArgR: {chi2}, p-value: {p}, dof: {dof}\")\n",
    "with open(out, 'a') as f:\n",
    "    f.write(f\"mchB vs mchI: {chi2}, p-value: {p}, dof: {dof}\\n\")\n",
    "\n",
    "### Time to do the chi-squared test for the immunity genes vs promoters\n",
    "# ArgR\n",
    "chi_test('ArgR', df, out)\n",
    "# arcA\n",
    "chi_test('arcA', df, out)\n",
    "# crp\n",
    "chi_test('crp', df, out)\n",
    "# deoR\n",
    "chi_test('deoR', df, out)\n",
    "# fnr\n",
    "chi_test('fnr', df, out)\n",
    "# gcvA\n",
    "chi_test('gcvA', df, out)\n",
    "# hns\n",
    "chi_test('hns', df, out)\n",
    "# ihf\n",
    "chi_test('ihf', df, out)\n",
    "# ilvY\n",
    "chi_test('ilvY', df, out)\n",
    "# lexA\n",
    "chi_test('lexA', df, out)\n",
    "# lrp\n",
    "chi_test('lrp', df, out)\n",
    "# ompR\n",
    "chi_test('ompR', df, out)\n",
    "# phoB\n",
    "chi_test('phoB', df, out)\n",
    "# purR\n",
    "chi_test('purR', df, out)\n",
    "# rpoD16\n",
    "chi_test('rpoD16', df, out)\n",
    "# rpoD18\n",
    "chi_test('rpoD18', df, out)\n",
    "# rpoD19\n",
    "chi_test('rpoD19', df, out)\n",
    "# rpoH2\n",
    "chi_test('rpoH2', df, out)\n",
    "# tyrR\n",
    "chi_test('tyrR', df, out)"
   ]
  }
 ],
 "metadata": {
  "kernelspec": {
   "display_name": "base",
   "language": "python",
   "name": "python3"
  },
  "language_info": {
   "codemirror_mode": {
    "name": "ipython",
    "version": 3
   },
   "file_extension": ".py",
   "mimetype": "text/x-python",
   "name": "python",
   "nbconvert_exporter": "python",
   "pygments_lexer": "ipython3",
   "version": "3.10.14"
  }
 },
 "nbformat": 4,
 "nbformat_minor": 2
}
