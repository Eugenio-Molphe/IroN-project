{
 "cells": [
  {
   "cell_type": "code",
   "execution_count": null,
   "metadata": {},
   "outputs": [],
   "source": [
    "##### Eugenio Perez Molphe Montoya #####\n",
    "##### 21.10.2024 #####\n",
    "##### Take the lists of E. coli genomes with iroN, the df with promoters, and the lists with the immunity genes #####\n",
    "##### and create a df with the promoters and the immunity genes, and a Venn diagram of immunity genes vs argR #####"
   ]
  },
  {
   "cell_type": "code",
   "execution_count": 1,
   "metadata": {},
   "outputs": [],
   "source": [
    "# Libraries\n",
    "import pandas as pd\n",
    "import matplotlib.pyplot as plt\n",
    "from matplotlib_venn import venn3, venn2\n",
    "from scipy.stats import chi2_contingency"
   ]
  },
  {
   "cell_type": "code",
   "execution_count": 2,
   "metadata": {},
   "outputs": [],
   "source": [
    "# Files\n",
    "df = pd.read_csv(\"/mnt/mnemo5/eugenio/IroN_project/Files/10_Escherichia/promoters_df_with_iroN.csv\", sep='\\t') # Promoters\n",
    "df.rename(columns={'Unnamed: 0': 'Genome'}, inplace=True)\n",
    "df['ArgR'] = ((df['argR'] == 1) | (df['argR2'] == 1)).astype(int)\n",
    "df = df.drop(['argR', 'argR2'], axis=1)\n",
    "df['Genome'] = df['Genome'].apply(lambda x: x + '.1' if not x.endswith('.1') else x)\n",
    "\n",
    "with open(\"/mnt/mnemo5/eugenio/IroN_project/Files/10_Escherichia/Results/Escherichia_w_iroN.txt\") as f:\n",
    "    iroN = f.readlines() # iroN\n",
    "\n",
    "with open(\"/mnt/mnemo5/eugenio/IroN_project/Files/10_Escherichia/Immunity_genes/mchB_list.txt\") as f:\n",
    "    mchB = f.readlines() # Immunity genes: mchB\n",
    "\n",
    "with open(\"/mnt/mnemo5/eugenio/IroN_project/Files/10_Escherichia/Immunity_genes/mchI_list.txt\") as f:\n",
    "    mchI = f.readlines() # Immunity genes: mchI\n",
    "\n",
    "with open(\"/mnt/mnemo5/eugenio/IroN_project/Files/10_Escherichia/Immunity_genes/microcin_list.txt\") as f:\n",
    "    microcin = f.readlines() # Immunity genes: microcin"
   ]
  },
  {
   "cell_type": "code",
   "execution_count": 4,
   "metadata": {},
   "outputs": [
    {
     "name": "stdout",
     "output_type": "stream",
     "text": [
      "46 532 697\n",
      "46\n"
     ]
    }
   ],
   "source": [
    "# Check number of genomes with mchB, mchI, and microcin\n",
    "print(len(mchB), len(mchI), len(microcin))\n",
    "\n",
    "# Number of genomes with mchB and mchI\n",
    "print(len(set(mchB) & set(mchI)))"
   ]
  },
  {
   "cell_type": "code",
   "execution_count": 3,
   "metadata": {},
   "outputs": [],
   "source": [
    "### Functions :D\n",
    "def get_promoters(df, genomesList, geneName):\n",
    "    '''Get the promoters of the genomes in the list and append them the df as a new column'''\n",
    "    # Strip any whitespace from the genomes list\n",
    "    genomesList = [genome.strip() for genome in genomesList]\n",
    "    # Add a new presence/absence column to the df\n",
    "    df[geneName] = df['Genome'].apply(lambda x: 1 if x in genomesList else 0)\n",
    "\n",
    "    return df\n",
    "\n",
    "def chi_test(promoter, df, out):\n",
    "    ''' Perform a chi-squared test of independence between the presence of the immunity genes and the presence of a promoter'''\n",
    "    # Create a contingency table\n",
    "    obs = pd.crosstab(df[promoter], [df['mchB'], df['mchI']])\n",
    "\n",
    "    # Perform the chi-squared test\n",
    "    chi2, p, dof, expected = chi2_contingency(obs)\n",
    "    print(f\"{promoter}: {chi2}, p-value: {p}, dof: {dof}\")\n",
    "\n",
    "    # Write the results to a file\n",
    "    with open(out, 'a') as f:\n",
    "        f.write(f\"{promoter}: {chi2}, p-value: {p}, dof: {dof}\\n\")\n"
   ]
  },
  {
   "cell_type": "code",
   "execution_count": 4,
   "metadata": {},
   "outputs": [
    {
     "name": "stdout",
     "output_type": "stream",
     "text": [
      "               Genome  ada  araC  arcA  cpxR  crp  farR  fis  fnr  fur  ...  \\\n",
      "0     GCA_012832335.1    0     0     0     0    0     0    0    0    0  ...   \n",
      "1     GCA_017580805.1    0     0     0     0    0     0    0    0    0  ...   \n",
      "2     GCA_014271505.1    0     0     0     0    0     0    0    0    0  ...   \n",
      "3     GCA_001463455.1    0     0     0     0    0     0    0    0    0  ...   \n",
      "4     GCA_003903315.1    0     0     0     0    0     0    0    0    0  ...   \n",
      "...               ...  ...   ...   ...   ...  ...   ...  ...  ...  ...  ...   \n",
      "1797  GCA_016946115.1    0     0     0     0    0     0    0    0    0  ...   \n",
      "1798  GCA_007844635.1    0     0     0     0    0     0    0    0    0  ...   \n",
      "1799  GCA_003779805.1    0     0     0     0    0     0    0    0    0  ...   \n",
      "1800  GCA_902828165.1    0     0     0     0    0     0    0    0    0  ...   \n",
      "1801  GCA_019577055.1    0     0     0     0    0     0    0    0    0  ...   \n",
      "\n",
      "      rpoD15  rpoD16  rpoD17  rpoD18  rpoD19  rpoH2  rpoH3  soxS  tyrR  ArgR  \n",
      "0          0       0       0       2       0      1      0     0     0     0  \n",
      "1          0       0       0       2       0      0      0     0     0     0  \n",
      "2          0       0       0       2       0      0      0     0     0     0  \n",
      "3          0       0       0       2       0      0      0     0     0     0  \n",
      "4          0       0       0       2       0      1      0     0     0     0  \n",
      "...      ...     ...     ...     ...     ...    ...    ...   ...   ...   ...  \n",
      "1797       0       0       0       2       0      1      0     0     0     0  \n",
      "1798       0       0       0       2       0      0      0     0     0     0  \n",
      "1799       0       0       0       2       0      1      0     0     0     0  \n",
      "1800       0       0       0       2       0      1      0     0     0     0  \n",
      "1801       0       0       0       2       0      1      0     0     0     0  \n",
      "\n",
      "[1802 rows x 27 columns]\n"
     ]
    }
   ],
   "source": [
    "# So names in the DF are not the accession numbers, so I'll change that\n",
    "\n",
    "# Read the two columns CSV file with the accesion codes for the contig names as a dictionary\n",
    "accession_dict = pd.read_csv(\"/mnt/mnemo5/eugenio/IroN_project/Files/10_Escherichia/Results/Escherichia_contig-NCBI_codes.csv\", header=None, index_col=0).to_dict()\n",
    "\n",
    "# Replace the names in the dataframe with the accession numbers\n",
    "df['Genome'] = df['Genome'].apply(lambda x: accession_dict[1][x] if x in accession_dict[1] else x)\n",
    "\n",
    "print(df)"
   ]
  },
  {
   "cell_type": "code",
   "execution_count": 5,
   "metadata": {},
   "outputs": [
    {
     "name": "stdout",
     "output_type": "stream",
     "text": [
      "               Genome  ada  araC  arcA  cpxR  crp  farR  fis  fnr  fur  ...  \\\n",
      "0     GCA_012832335.1    0     0     0     0    0     0    0    0    0  ...   \n",
      "1     GCA_017580805.1    0     0     0     0    0     0    0    0    0  ...   \n",
      "2     GCA_014271505.1    0     0     0     0    0     0    0    0    0  ...   \n",
      "3     GCA_001463455.1    0     0     0     0    0     0    0    0    0  ...   \n",
      "4     GCA_003903315.1    0     0     0     0    0     0    0    0    0  ...   \n",
      "...               ...  ...   ...   ...   ...  ...   ...  ...  ...  ...  ...   \n",
      "1797  GCA_016946115.1    0     0     0     0    0     0    0    0    0  ...   \n",
      "1798  GCA_007844635.1    0     0     0     0    0     0    0    0    0  ...   \n",
      "1799  GCA_003779805.1    0     0     0     0    0     0    0    0    0  ...   \n",
      "1800  GCA_902828165.1    0     0     0     0    0     0    0    0    0  ...   \n",
      "1801  GCA_019577055.1    0     0     0     0    0     0    0    0    0  ...   \n",
      "\n",
      "      rpoD18  rpoD19  rpoH2  rpoH3  soxS  tyrR  ArgR  mchB  mchI  microcin  \n",
      "0          2       0      1      0     0     0     0     0     0         0  \n",
      "1          2       0      0      0     0     0     0     0     1         1  \n",
      "2          2       0      0      0     0     0     0     0     0         0  \n",
      "3          2       0      0      0     0     0     0     0     1         1  \n",
      "4          2       0      1      0     0     0     0     0     0         0  \n",
      "...      ...     ...    ...    ...   ...   ...   ...   ...   ...       ...  \n",
      "1797       2       0      1      0     0     0     0     0     0         0  \n",
      "1798       2       0      0      0     0     0     0     0     1         1  \n",
      "1799       2       0      1      0     0     0     0     0     0         0  \n",
      "1800       2       0      1      0     0     0     0     0     0         0  \n",
      "1801       2       0      1      0     0     0     0     0     0         1  \n",
      "\n",
      "[1802 rows x 30 columns]\n"
     ]
    }
   ],
   "source": [
    "# Add a column for each immunity gene\n",
    "df = get_promoters(df, mchB, 'mchB')\n",
    "df = get_promoters(df, mchI, 'mchI')\n",
    "df = get_promoters(df, microcin, 'microcin')\n",
    "\n",
    "# Save the df\n",
    "df.to_csv(\"/mnt/mnemo5/eugenio/IroN_project/Files/10_Escherichia/promoters_df_with_immunity_genes.csv\", sep='\\t', index=False)\n",
    "\n",
    "print(df)"
   ]
  },
  {
   "cell_type": "code",
   "execution_count": null,
   "metadata": {},
   "outputs": [],
   "source": [
    "### So I used the df created up until now to filter it, removing the genomes that I'm not sure if they even have iroN\n",
    "### This line is to read the filtered df and continue with the analysis\n",
    "\n",
    "# Filtered df\n",
    "path = \"/mnt/mnemo5/eugenio/IroN_project/Files/10_Escherichia/promoters_df_with_iroN.csv\"\n",
    "df = pd.read_csv(path, sep='\\t')"
   ]
  },
  {
   "cell_type": "code",
   "execution_count": 8,
   "metadata": {},
   "outputs": [
    {
     "data": {
      "image/png": "[encoded data removed]",
      "text/plain": [
       "<Figure size 800x800 with 1 Axes>"
      ]
     },
     "metadata": {},
     "output_type": "display_data"
    }
   ],
   "source": [
    "# Time to do the Venn diagram\n",
    "\n",
    "# Select the genes that I want to see the Venn diagram of\n",
    "geneA = 'ArgR'\n",
    "geneB = 'mchB'\n",
    "geneC = 'mchI'\n",
    "\n",
    "# Convert columns to sets (index of genomes that have the gene)\n",
    "setA = set(df[df[geneA] >= 1].index)\n",
    "setB = set(df[df[geneB] >= 1].index)\n",
    "setC = set(df[df[geneC] >= 1].index)\n",
    "\n",
    "# Plot a Venn diagram\n",
    "plt.figure(figsize=(8, 8))\n",
    "\n",
    "# For three genes:\n",
    "# venn3([setA, setB, setC], set_labels=('ArgR', 'mchB', 'mchI'), set_colors=('#90bFF9', 'grey', 'black'))\n",
    "\n",
    "# To get who has mchI and mchB or both\n",
    "venn2([setA, setC], set_labels=('argR', 'mchI'), set_colors=('#90bFF9', 'black'))\n",
    "\n",
    "plt.title(\"Venn Diagram of Gene Presence (mchB, mchI) in Genomes\")\n",
    "plt.show()"
   ]
  },
  {
   "cell_type": "code",
   "execution_count": 9,
   "metadata": {},
   "outputs": [
    {
     "name": "stdout",
     "output_type": "stream",
     "text": [
      "39\n"
     ]
    }
   ],
   "source": [
    "print(df['mchB'].sum())"
   ]
  },
  {
   "cell_type": "code",
   "execution_count": 6,
   "metadata": {},
   "outputs": [
    {
     "name": "stdout",
     "output_type": "stream",
     "text": [
      "microcin vs ArgR: 1.6417107149495687, p-value: 0.200090912751756, dof: 1\n",
      "microcin vs mchB: 66.6964219479234, p-value: 3.1670943451694884e-16, dof: 1\n"
     ]
    }
   ],
   "source": [
    "# Chi-squared test for microcin\n",
    "# The path of the output file\n",
    "out = '/mnt/mnemo5/eugenio/IroN_project/Files/10_Escherichia/Results/Chit_sqr.txt'\n",
    "\n",
    "# Chi-squared test for ArgR\n",
    "obs = pd.crosstab(df['microcin'], df['ArgR'])\n",
    "chi2, p, dof, expected = chi2_contingency(obs)\n",
    "print(f\"microcin vs ArgR: {chi2}, p-value: {p}, dof: {dof}\")\n",
    "with open(out, 'a') as f:\n",
    "    f.write(f\"microcin vs ArgR: {chi2}, p-value: {p}, dof: {dof}\\n\")\n",
    "\n",
    "# Chi-squared test for mchI\n",
    "obs = pd.crosstab(df['microcin'], df['mchB'])\n",
    "chi2, p, dof, expected = chi2_contingency(obs)\n",
    "print(f\"microcin vs mchB: {chi2}, p-value: {p}, dof: {dof}\")\n",
    "with open(out, 'a') as f:\n",
    "    f.write(f\"microcin vs mchB: {chi2}, p-value: {p}, dof: {dof}\\n\")"
   ]
  },
  {
   "cell_type": "code",
   "execution_count": 7,
   "metadata": {},
   "outputs": [
    {
     "name": "stdout",
     "output_type": "stream",
     "text": [
      "mchB vs ArgR: 67.97819789923851, p-value: 1.6531333062260296e-16, dof: 1\n"
     ]
    }
   ],
   "source": [
    "obs = pd.crosstab(df['mchB'], df['ArgR'])\n",
    "chi2, p, dof, expected = chi2_contingency(obs)\n",
    "print(f\"mchB vs ArgR: {chi2}, p-value: {p}, dof: {dof}\")\n",
    "with open(out, 'a') as f:\n",
    "    f.write(f\"mchB vs ArgR: {chi2}, p-value: {p}, dof: {dof}\\n\")"
   ]
  },
  {
   "cell_type": "code",
   "execution_count": 8,
   "metadata": {},
   "outputs": [
    {
     "name": "stdout",
     "output_type": "stream",
     "text": [
      "mchI vs ArgR: 9.551968905412739, p-value: 0.001997350588091667, dof: 1\n"
     ]
    }
   ],
   "source": [
    "obs = pd.crosstab(df['mchI'], df['ArgR'])\n",
    "chi2, p, dof, expected = chi2_contingency(obs)\n",
    "print(f\"mchI vs ArgR: {chi2}, p-value: {p}, dof: {dof}\")\n",
    "with open(out, 'a') as f:\n",
    "    f.write(f\"mchI vs ArgR: {chi2}, p-value: {p}, dof: {dof}\\n\")"
   ]
  },
  {
   "cell_type": "code",
   "execution_count": 9,
   "metadata": {},
   "outputs": [
    {
     "name": "stdout",
     "output_type": "stream",
     "text": [
      "mchB vs mchI: 98.76536068658592, p-value: 2.8426346087127855e-23, dof: 1\n",
      "The following ones are vs mchB & mchI\n",
      "ArgR: 102.87987743543181, p-value: 4.570023838283679e-23, dof: 2\n",
      "ada: 0.0, p-value: 1.0, dof: 0\n",
      "araC: 1.9522171150495409, p-value: 0.3767744458215117, dof: 2\n",
      "arcA: 55.45792916864805, p-value: 2.604855677144991e-11, dof: 4\n",
      "cpxR: 2.868544656878749, p-value: 0.23828869685026755, dof: 2\n",
      "crp: 42.07431414470126, p-value: 1.6100313616764856e-08, dof: 4\n",
      "farR: 0.7795853679431166, p-value: 0.6771972537913507, dof: 2\n",
      "fis: 11.878558089426718, p-value: 0.0026339279109027203, dof: 2\n",
      "fnr: 54.6678192775356, p-value: 3.8136460192381804e-11, dof: 4\n",
      "fur: 0.0, p-value: 1.0, dof: 0\n",
      "ihf: 13.972851011072393, p-value: 0.007382210076211976, dof: 4\n",
      "ilvY: 24.558080211504375, p-value: 6.172304194266956e-05, dof: 4\n",
      "lexA: 68.69491011728054, p-value: 4.280041219809351e-14, dof: 4\n",
      "lrp: 431.4769642512046, p-value: 4.3843347551634986e-92, dof: 4\n",
      "ompR: 2.3439649147510186, p-value: 0.30975226152316804, dof: 2\n",
      "phoB: 202.3949432587909, p-value: 1.1479861282054588e-42, dof: 4\n",
      "purR: 448.3872683902027, p-value: 9.69388583860439e-96, dof: 4\n",
      "rpoD15: 1.9522171150495409, p-value: 0.3767744458215117, dof: 2\n",
      "rpoD16: 13.897532026150632, p-value: 0.0009598188271077785, dof: 2\n",
      "rpoD17: 28.603618541290366, p-value: 6.148981020168042e-07, dof: 2\n",
      "rpoD18: 111.49014467278407, p-value: 3.5006673578318554e-23, dof: 4\n",
      "rpoD19: 18.790006304269994, p-value: 8.313845959674821e-05, dof: 2\n",
      "rpoH2: 328.551432640614, p-value: 7.484657634398329e-70, dof: 4\n",
      "rpoH3: 0.38957625272004714, p-value: 0.8230090135001285, dof: 2\n",
      "soxS: 1.9522171150495409, p-value: 0.3767744458215117, dof: 2\n",
      "tyrR: 12.281440861441533, p-value: 0.015376625323206203, dof: 4\n"
     ]
    }
   ],
   "source": [
    "# Chi-squared test\n",
    "\n",
    "# The path of the output file\n",
    "out = '/mnt/mnemo5/eugenio/IroN_project/Files/10_Escherichia/Results/Chit_sqr.txt'\n",
    "\n",
    "\n",
    "\n",
    "### mchB vs mchI\n",
    "# Create a contingency table\n",
    "obs = pd.crosstab(df['mchB'], df['mchI'])\n",
    "chi2, p, dof, expected = chi2_contingency(obs)\n",
    "print(f\"mchB vs mchI: {chi2}, p-value: {p}, dof: {dof}\")\n",
    "with open(out, 'a') as f:\n",
    "    f.write(f\"mchB vs mchI: {chi2}, p-value: {p}, dof: {dof}\\n\")\n",
    "\n",
    "with open(out, 'a') as f:\n",
    "    f.write(\"The following ones are vs mchB & mchI\\n\")\n",
    "print(\"The following ones are vs mchB & mchI\")\n",
    "\n",
    "### Time to do the chi-squared test for the immunity genes vs promoters\n",
    "# ArgR\n",
    "chi_test('ArgR', df, out)\n",
    "# ada\n",
    "chi_test('ada', df, out)\n",
    "# araC\n",
    "chi_test('araC', df, out)\n",
    "# arcA\n",
    "chi_test('arcA', df, out)\n",
    "# cpxR\n",
    "chi_test('cpxR', df, out)\n",
    "# crp\n",
    "chi_test('crp', df, out)\n",
    "# farR\n",
    "chi_test('farR', df, out)\n",
    "# fis\n",
    "chi_test('fis', df, out)\n",
    "# fnr\n",
    "chi_test('fnr', df, out)\n",
    "# fur\n",
    "chi_test('fur', df, out)\n",
    "# ihf\n",
    "chi_test('ihf', df, out)\n",
    "# ilvY\n",
    "chi_test('ilvY', df, out)\n",
    "# lexA\n",
    "chi_test('lexA', df, out)\n",
    "# lrp\n",
    "chi_test('lrp', df, out)\n",
    "# ompR\n",
    "chi_test('ompR', df, out)\n",
    "# phoB\n",
    "chi_test('phoB', df, out)\n",
    "# puR\n",
    "chi_test('purR', df, out)\n",
    "# rpoD15\n",
    "chi_test('rpoD15', df, out)\n",
    "# rpod16\n",
    "chi_test('rpoD16', df, out)\n",
    "# rpoD17\n",
    "chi_test('rpoD17', df, out)\n",
    "# rpoD18\n",
    "chi_test('rpoD18', df, out)\n",
    "# rpoD19\n",
    "chi_test('rpoD19', df, out)\n",
    "# rpoH2\n",
    "chi_test('rpoH2', df, out)\n",
    "# rpoH3\n",
    "chi_test('rpoH3', df, out)\n",
    "# soxS\n",
    "chi_test('soxS', df, out)\n",
    "# tyrR\n",
    "chi_test('tyrR', df, out)"
   ]
  }
 ],
 "metadata": {
  "kernelspec": {
   "display_name": "base",
   "language": "python",
   "name": "python3"
  },
  "language_info": {
   "codemirror_mode": {
    "name": "ipython",
    "version": 3
   },
   "file_extension": ".py",
   "mimetype": "text/x-python",
   "name": "python",
   "nbconvert_exporter": "python",
   "pygments_lexer": "ipython3",
   "version": "3.10.14"
  }
 },
 "nbformat": 4,
 "nbformat_minor": 2
}
