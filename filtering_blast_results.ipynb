{
 "cells": [
  {
   "cell_type": "code",
   "execution_count": null,
   "metadata": {},
   "outputs": [],
   "source": [
    "#### Eugenio Perez Molphe Montoya ####\n",
    "#### 16.07.2024 ####\n",
    "#### Checks the Blast results in the fasta file to see if I can make rules to filter my samples ####\n",
    "#### Nico double checked our results with SwissProt to see if we effectively captured our protein iroN and not something else ####\n",
    "#### I'm going to check those results and try to filter ourt the results that doesn't make sense ####"
   ]
  },
  {
   "cell_type": "code",
   "execution_count": 2,
   "metadata": {},
   "outputs": [],
   "source": [
    "# Import libraries\n",
    "import pandas as pd"
   ]
  },
  {
   "cell_type": "markdown",
   "metadata": {},
   "source": [
    "Here I explore the results of the double check made by Nico and then I make a list with the sequences found to be effectively putative iroN on a normal Blast and SwissProt (I decided to only use Blast). And the tested sequences are the ones reported by Prodigal to be the analyzed gene."
   ]
  },
  {
   "cell_type": "code",
   "execution_count": 56,
   "metadata": {},
   "outputs": [
    {
     "name": "stdout",
     "output_type": "stream",
     "text": [
      "                                              query          target  \\\n",
      "1425           prodigal_548.SAMN04014848.CP024883_1    MDK6769011.1   \n",
      "3088       prodigal_548.SAMN03495941.LDBF01000050_1    MDK6769011.1   \n",
      "5340       prodigal_548.SAMN03495953.LDBQ01000019_1    MDK6769011.1   \n",
      "5458     prodigal_54291.SAMN13494091.WUQH01000009_2      VTM87371.1   \n",
      "427   prodigal_54291.SAMN15566989.DACSDZ010000005_1      VTN05838.1   \n",
      "...                                             ...             ...   \n",
      "1427           prodigal_548.SAMN04014848.CP024883_2  WP_100279455.1   \n",
      "5304                      prodigal_SIEM01000023.1_1    MDN2213600.1   \n",
      "3091       prodigal_548.SAMN03495941.LDBF01000050_2  WP_015369701.1   \n",
      "692         prodigal_300267.SAMN02603600.CP000034_2  WP_011378642.1   \n",
      "2596    prodigal_562.SAMEA5611618.DADCRK010000074_1    HAW0036339.1   \n",
      "\n",
      "             evalue  bits  pident  nident  alnlen  mismatc  qstart  qend  \\\n",
      "1425   5.657000e-29   119    98.7       0      56        1       1    56   \n",
      "3088   5.657000e-29   119    98.7       0      56        1       1    56   \n",
      "5340   5.657000e-29   119    98.7       0      56        1       1    56   \n",
      "5458  1.461000e-253   785    97.8       0     380        8       1   380   \n",
      "427    0.000000e+00  1069    98.6       0     513        7       1   513   \n",
      "...             ...   ...     ...     ...     ...      ...     ...   ...   \n",
      "1427   0.000000e+00  1479    96.9       0     724       22       1   724   \n",
      "5304   0.000000e+00  1478    96.7       0     725       24       1   725   \n",
      "3091   0.000000e+00  1480    97.0       0     724       22       1   724   \n",
      "692    0.000000e+00  1480    96.8       0     725       23       1   725   \n",
      "2596  1.647000e-275   850    97.9       0     411        9       1   411   \n",
      "\n",
      "      tstart  tend                                 theader  \n",
      "1425     117   172               DJ-1/PfpI family protein   \n",
      "3088     117   172               DJ-1/PfpI family protein   \n",
      "5340     117   172               DJ-1/PfpI family protein   \n",
      "5458      51   430   Enterobactin outer-membrane receptor   \n",
      "427        2   514   Enterobactin outer-membrane receptor   \n",
      "...      ...   ...                                     ...  \n",
      "1427       1   724  siderophore salmochelin receptor IroN   \n",
      "5304       1   725  siderophore salmochelin receptor IroN   \n",
      "3091       1   724  siderophore salmochelin receptor IroN   \n",
      "692        1   725  siderophore salmochelin receptor IroN   \n",
      "2596       1   411  siderophore salmochelin receptor IroN   \n",
      "\n",
      "[6058 rows x 13 columns]\n"
     ]
    }
   ],
   "source": [
    "#### Here I read the results of the Blast ####\n",
    "\n",
    "path = '/mnt/mnemo6/nnaepf/for_eugenio/check_annotation/results_NR/result_sequences_ironDB.blast.filter'\n",
    "\n",
    "df = pd.read_csv(path, delimiter='\\t', header=None)\n",
    "\n",
    "# Modify it by assigning headers and removing useless info in the last column\n",
    "df.columns = ['query','target','evalue','bits','pident','nident','alnlen','mismatc','qstart','qend','tstart','tend','theader']\n",
    "\n",
    "def process_string(s):\n",
    "    leftSideRemoved = s.split(' ')[1:]\n",
    "    leftSideRemoved = ' '.join(leftSideRemoved)\n",
    "    rightSideRemoved = leftSideRemoved.split('[')[0]\n",
    "    return rightSideRemoved\n",
    "df['theader'] = df['theader'].apply(process_string)\n",
    "\n",
    "# Now let's sort the values by the guessed protein\n",
    "df = df.sort_values(by='theader')\n",
    "\n",
    "# Now let's remove the prodigal results\n",
    "df = df[df['query'].str.contains('prodigal') == True]\n",
    "\n",
    "print(df)"
   ]
  },
  {
   "cell_type": "code",
   "execution_count": 57,
   "metadata": {},
   "outputs": [
    {
     "name": "stdout",
     "output_type": "stream",
     "text": [
      "['DJ-1/PfpI family protein ' 'Enterobactin outer-membrane receptor '\n",
      " 'FepA family TonB-dependent siderophore receptor '\n",
      " 'FepA family TonB-dependent siderophore receptor, partial '\n",
      " 'Ferrienterobactin receptor ' 'IS1-like element transposase ' 'IroE '\n",
      " 'MULTISPECIES: TonB-dependent siderophore receptor '\n",
      " 'MULTISPECIES: acyl-CoA thioester hydrolase YciA '\n",
      " 'MULTISPECIES: anti-adapter protein IraP '\n",
      " 'MULTISPECIES: siderophore salmochelin receptor IroN '\n",
      " 'Salmochelin siderophore protein IroE '\n",
      " 'Shikimate 5-dehydrogenase-like protein HI_0607 '\n",
      " 'TonB-dependent outer membrane siderophore receptor protein '\n",
      " 'TonB-dependent receptor '\n",
      " 'TonB-dependent receptor plug domain-containing protein '\n",
      " 'TonB-dependent receptor plug domain-containing protein, partial '\n",
      " 'TonB-dependent receptor, partial '\n",
      " 'TonB-dependent receptor; Outer membrane receptor for ferric enterobactin and colicins B, D '\n",
      " 'TonB-dependent siderophore receptor '\n",
      " 'TonB-dependent siderophore receptor, partial '\n",
      " 'Uncharacterised protein ' 'acyl-CoA esterase '\n",
      " 'acyl-CoA thioester hydrolase YciA '\n",
      " 'acyl-CoA thioester hydrolase YciA, partial ' 'alpha/beta hydrolase '\n",
      " 'alpha/beta hydrolase, partial ' 'catecholate siderophore esterase IroE '\n",
      " 'enterochelin esterase ' 'hydrolase, partial ' 'hypothetical protein '\n",
      " 'hypothetical protein PPOKNCAL_00019 '\n",
      " 'iron complex outermembrane receptor protein '\n",
      " 'ligand-gated channel protein '\n",
      " 'outer Membrane Siderophore Receptor IroN '\n",
      " 'outer membrane receptor FepA '\n",
      " 'outer membrane receptor for ferrienterochelin and colicins '\n",
      " 'outer membrane receptor protein '\n",
      " 'outer membrane receptor protein, partial ' 'septation protein IspZ '\n",
      " 'shikimate 5-dehydrogenase ' 'siderophore salmochelin receptor IroN ']\n"
     ]
    }
   ],
   "source": [
    "### Here I check which proteins are found\n",
    "print(df['theader'].unique())"
   ]
  },
  {
   "cell_type": "code",
   "execution_count": 58,
   "metadata": {},
   "outputs": [
    {
     "name": "stdout",
     "output_type": "stream",
     "text": [
      "                                              query          target  \\\n",
      "5458     prodigal_54291.SAMN13494091.WUQH01000009_2      VTM87371.1   \n",
      "427   prodigal_54291.SAMN15566989.DACSDZ010000005_1      VTN05838.1   \n",
      "5968     prodigal_54291.SAMN07690113.PGGQ01000001_1      VTN05838.1   \n",
      "3876                   prodigal_AAVLSK010000002.1_2    EIQ8105448.1   \n",
      "5181   prodigal_1560357.SAMD00020672.BBOD01000074_1  WP_058962435.1   \n",
      "...                                             ...             ...   \n",
      "1427           prodigal_548.SAMN04014848.CP024883_2  WP_100279455.1   \n",
      "5304                      prodigal_SIEM01000023.1_1    MDN2213600.1   \n",
      "3091       prodigal_548.SAMN03495941.LDBF01000050_2  WP_015369701.1   \n",
      "692         prodigal_300267.SAMN02603600.CP000034_2  WP_011378642.1   \n",
      "2596    prodigal_562.SAMEA5611618.DADCRK010000074_1    HAW0036339.1   \n",
      "\n",
      "             evalue  bits  pident  nident  alnlen  mismatc  qstart  qend  \\\n",
      "5458  1.461000e-253   785    97.8       0     380        8       1   380   \n",
      "427    0.000000e+00  1069    98.6       0     513        7       1   513   \n",
      "5968   0.000000e+00  1069    98.6       0     513        7       1   513   \n",
      "3876   0.000000e+00  1043    96.5       0     513       18       1   513   \n",
      "5181   4.892000e-22    98    98.9       0      46        0       1    46   \n",
      "...             ...   ...     ...     ...     ...      ...     ...   ...   \n",
      "1427   0.000000e+00  1479    96.9       0     724       22       1   724   \n",
      "5304   0.000000e+00  1478    96.7       0     725       24       1   725   \n",
      "3091   0.000000e+00  1480    97.0       0     724       22       1   724   \n",
      "692    0.000000e+00  1480    96.8       0     725       23       1   725   \n",
      "2596  1.647000e-275   850    97.9       0     411        9       1   411   \n",
      "\n",
      "      tstart  tend                                           theader  \n",
      "5458      51   430             Enterobactin outer-membrane receptor   \n",
      "427        2   514             Enterobactin outer-membrane receptor   \n",
      "5968       2   514             Enterobactin outer-membrane receptor   \n",
      "3876      41   553  FepA family TonB-dependent siderophore receptor   \n",
      "5181     176   221  FepA family TonB-dependent siderophore receptor   \n",
      "...      ...   ...                                               ...  \n",
      "1427       1   724            siderophore salmochelin receptor IroN   \n",
      "5304       1   725            siderophore salmochelin receptor IroN   \n",
      "3091       1   724            siderophore salmochelin receptor IroN   \n",
      "692        1   725            siderophore salmochelin receptor IroN   \n",
      "2596       1   411            siderophore salmochelin receptor IroN   \n",
      "\n",
      "[3177 rows x 13 columns]\n"
     ]
    }
   ],
   "source": [
    "### Now time to filter out the results that doesn't make sense\n",
    "\n",
    "df1 = df[df['theader'] == 'acyl-CoA esterase ']\n",
    "\n",
    "'''\n",
    "The following ones have to be removed:\n",
    "DJ-1/PfpI family protein \n",
    "IS1-like element transposase \n",
    "IroE \n",
    "MULTISPECIES: acyl-CoA thioester hydrolase YciA\n",
    "MULTISPECIES: anti-adapter protein IraP  \n",
    "Salmochelin siderophore protein IroE \n",
    "Shikimate 5-dehydrogenase-like protein HI_0607 \n",
    "Uncharacterised protein \n",
    "acyl-CoA esterase \n",
    "acyl-CoA thioester hydrolase YciA \n",
    "acyl-CoA thioester hydrolase YciA, partial \n",
    "alpha/beta hydrolase \n",
    "alpha/beta hydrolase, partial \n",
    "catecholate siderophore esterase IroE \n",
    "enterochelin esterase \n",
    "hydrolase, partial \n",
    "hypothetical protein \n",
    "hypothetical protein PPOKNCAL_00019 \n",
    "ligand-gated channel protein \n",
    "septation protein IspZ \n",
    "shikimate 5-dehydrogenase \n",
    "'''\n",
    "\n",
    "filteredDf = df[(df['theader'].str.contains('acyl-CoA') == False) & (df['theader'] != 'DJ-1/PfpI family protein ')\n",
    "                & (df['theader'] != 'DJ-1/PfpI family protein ') & (df['theader'] != 'IS1-like element transposase ')\n",
    "                & (df['theader'].str.contains('IroE ') == False) & (df['theader'] != 'MULTISPECIES: anti-adapter protein IraP  ')\n",
    "                & (df['theader'].str.contains('5-dehydrogenase') == False) & (df['theader'] != 'Uncharacterised protein ')\n",
    "                & (df['theader'].str.contains('hydrolase') == False) & (df['theader'].str.contains('hypothetical') == False)\n",
    "                & (df['theader'] != 'ligand-gated channel protein ') & (df['theader'] != 'septation protein IspZ ')]\n",
    "print(filteredDf)"
   ]
  },
  {
   "cell_type": "code",
   "execution_count": 62,
   "metadata": {},
   "outputs": [
    {
     "name": "stdout",
     "output_type": "stream",
     "text": [
      "['54291', '54291', '54291', 'AAVLSK010000002', '1560357', '546', 'AAVLRX010000003', '546', '546', '67827', 'AAVJZQ010000002', '546', 'AAVLSJ010000002', '546', '573', 'AAVOKV010000002', '546', 'AAUIZH010000002', 'AAVFEJ010000002', '546']\n",
      "2846\n"
     ]
    }
   ],
   "source": [
    "### Now let's create a list of the queries that we want to keep\n",
    "\n",
    "queriesList = filteredDf['query'].tolist()\n",
    "\n",
    "# Remove the prodigal header and the things after the point\n",
    "for idx in range(len(queriesList)):\n",
    "    queriesList[idx] = queriesList[idx].strip('prodigal_').split('.')[0]\n",
    "\n",
    "queriesSet = set(queriesList)\n",
    "\n",
    "print(queriesList[0:20])\n",
    "print(len(queriesSet))\n"
   ]
  },
  {
   "cell_type": "code",
   "execution_count": 63,
   "metadata": {},
   "outputs": [],
   "source": [
    "pathFilteredPromoters =  '/mnt/mnemo5/eugenio/IroN_project/Files/07_Final_Report/filtered_promoters.txt'\n",
    "\n",
    "with open(pathFilteredPromoters, 'w') as f:\n",
    "    for item in queriesList:\n",
    "        f.write(\"%s\\n\" % item)"
   ]
  },
  {
   "cell_type": "markdown",
   "metadata": {},
   "source": [
    "In the following part of the code, I filter out the presence-absence matrix of the promoters."
   ]
  },
  {
   "cell_type": "code",
   "execution_count": null,
   "metadata": {},
   "outputs": [],
   "source": [
    "### Read the list of promoters that were double checked to be iroN\n",
    "pathFilteredPromoters =  '/mnt/mnemo5/eugenio/IroN_project/Files/07_Final_Report/filtered_promoters.txt'\n",
    "\n",
    "with open(pathFilteredPromoters, 'r') as f:\n",
    "    promoters = f.readlines()\n",
    "\n",
    "print(promoters)"
   ]
  },
  {
   "cell_type": "code",
   "execution_count": 70,
   "metadata": {},
   "outputs": [
    {
     "name": "stdout",
     "output_type": "stream",
     "text": [
      "   Unnamed: 0  arcA  argR2  crp  deoR  fis  fur  ihf  lrp  metR  rpoD15  \\\n",
      "0     1914243     0      0    0     2    0    1    0    0     0       0   \n",
      "1       54736     0      2    0     0    0    1    0    0     0       0   \n",
      "2     1243617     0      2    0     0    0    1    0    0     0       0   \n",
      "3         546     0      0    0     2    0    1    0    0     0       0   \n",
      "4       28901     0      2    0     0    0    1    0    0     0       0   \n",
      "\n",
      "   rpoD16  rpoD17  rpoD18  \n",
      "0       0       0       1  \n",
      "1       0       0       1  \n",
      "2       0       0       1  \n",
      "3       0       0       1  \n",
      "4       0       0       1  \n"
     ]
    }
   ],
   "source": [
    "### Read the dataframe of promoters\n",
    "pathPromoters = '/mnt/mnemo5/eugenio/IroN_project/Files/07_Final_Report/enterobacteriaceae_matrix_all.tsv'\n",
    "pathPromotersSalmonella = '/mnt/mnemo5/eugenio/IroN_project/Files/07_Final_Report/salmonella_matrix_all.tsv'\n",
    "\n",
    "dfPromoters = pd.read_csv(pathPromoters, delimiter='\\t')\n",
    "dfPromotersSalmonella = pd.read_csv(pathPromotersSalmonella, delimiter='\\t')\n",
    "\n",
    "print(dfPromoters.head())"
   ]
  },
  {
   "cell_type": "code",
   "execution_count": 66,
   "metadata": {},
   "outputs": [
    {
     "name": "stdout",
     "output_type": "stream",
     "text": [
      "Index(['Unnamed: 0', 'arcA', 'argR2', 'crp', 'deoR', 'fis', 'fur', 'ihf',\n",
      "       'lrp', 'metR', 'rpoD15', 'rpoD16', 'rpoD17', 'rpoD18'],\n",
      "      dtype='object')\n"
     ]
    }
   ],
   "source": [
    "print(dfPromoters.columns)\n",
    "promoters = queriesSet"
   ]
  },
  {
   "cell_type": "code",
   "execution_count": 74,
   "metadata": {},
   "outputs": [
    {
     "name": "stdout",
     "output_type": "stream",
     "text": [
      "           Unnamed: 0  argR  argR2  fis  fur  ihf  rpoD15  rpoD16  rpoD17  \\\n",
      "0     ABBKQC010000002     0      1    0    0    2       1       0       1   \n",
      "1     AADULB010000002     0      1    0    0    2       1       0       1   \n",
      "2     AADSXJ010000002     2      0    1    0    0       1       1       0   \n",
      "3     AAPSPV010000001     0      1    0    0    2       1       0       1   \n",
      "4     AAYDPO010000001     0      1    0    0    2       1       0       1   \n",
      "...               ...   ...    ...  ...  ...  ...     ...     ...     ...   \n",
      "1180  AAFRGC010000002     0      1    0    0    2       1       0       1   \n",
      "1181  AAKNTL010000001     0      1    0    0    2       1       0       1   \n",
      "1182  AADESK010000003     0      1    0    0    2       1       0       1   \n",
      "1183  AALMSJ010000002     0      1    0    0    2       1       0       1   \n",
      "1184  ABBIUV010000002     0      1    0    0    2       1       0       1   \n",
      "\n",
      "      rpoD18  rpoH2  \n",
      "0          0      0  \n",
      "1          0      0  \n",
      "2          0      0  \n",
      "3          0      0  \n",
      "4          0      0  \n",
      "...      ...    ...  \n",
      "1180       0      0  \n",
      "1181       0      0  \n",
      "1182       0      0  \n",
      "1183       0      0  \n",
      "1184       0      0  \n",
      "\n",
      "[1185 rows x 11 columns]\n"
     ]
    }
   ],
   "source": [
    "#### Now let's filter out the promoters that are not for an iroN gene\n",
    "\n",
    "# Filter the DataFrame of Enterobacteriaceae to obtain only the promoters that are for the iroN gene\n",
    "dfPromoters['Unnamed: 0'] = dfPromoters['Unnamed: 0'].astype(str)\n",
    "dfPromotersFiltered = dfPromoters[dfPromoters['Unnamed: 0'].isin(promoters)]\n",
    "\n",
    "# Do the same for the Salmonella DataFrame\n",
    "dfPromotersSalmonella['Unnamed: 0'] = dfPromotersSalmonella['Unnamed: 0'].astype(str)\n",
    "dfPromotersSalmonellaFiltered = dfPromotersSalmonella[dfPromotersSalmonella['Unnamed: 0'].isin(promoters)]\n",
    "\n",
    "# Print the filtered DataFrame\n",
    "print(dfPromotersSalmonellaFiltered)"
   ]
  },
  {
   "cell_type": "code",
   "execution_count": 77,
   "metadata": {},
   "outputs": [
    {
     "name": "stdout",
     "output_type": "stream",
     "text": [
      "           Unnamed: 0  argR  argR2  fis  fur  ihf  rpoD15  rpoD16  rpoD17  \\\n",
      "0     ABBKQC010000002     0      1    0    0    2       1       0       1   \n",
      "1     AADULB010000002     0      1    0    0    2       1       0       1   \n",
      "2     AADSXJ010000002     2      0    1    0    0       1       1       0   \n",
      "3     AAPSPV010000001     0      1    0    0    2       1       0       1   \n",
      "4     AAYDPO010000001     0      1    0    0    2       1       0       1   \n",
      "...               ...   ...    ...  ...  ...  ...     ...     ...     ...   \n",
      "1180  AAFRGC010000002     0      1    0    0    2       1       0       1   \n",
      "1181  AAKNTL010000001     0      1    0    0    2       1       0       1   \n",
      "1182  AADESK010000003     0      1    0    0    2       1       0       1   \n",
      "1183  AALMSJ010000002     0      1    0    0    2       1       0       1   \n",
      "1184  ABBIUV010000002     0      1    0    0    2       1       0       1   \n",
      "\n",
      "      rpoD18  rpoH2  \n",
      "0          0      0  \n",
      "1          0      0  \n",
      "2          0      0  \n",
      "3          0      0  \n",
      "4          0      0  \n",
      "...      ...    ...  \n",
      "1180       0      0  \n",
      "1181       0      0  \n",
      "1182       0      0  \n",
      "1183       0      0  \n",
      "1184       0      0  \n",
      "\n",
      "[1185 rows x 11 columns]\n"
     ]
    }
   ],
   "source": [
    "print(dfPromotersSalmonella)"
   ]
  },
  {
   "cell_type": "code",
   "execution_count": null,
   "metadata": {},
   "outputs": [],
   "source": [
    "### So apparently the promoter's matrix didn't change with the filtering, I think that saving this output is not necessary"
   ]
  }
 ],
 "metadata": {
  "kernelspec": {
   "display_name": "base",
   "language": "python",
   "name": "python3"
  },
  "language_info": {
   "codemirror_mode": {
    "name": "ipython",
    "version": 3
   },
   "file_extension": ".py",
   "mimetype": "text/x-python",
   "name": "python",
   "nbconvert_exporter": "python",
   "pygments_lexer": "ipython3",
   "version": "3.10.14"
  }
 },
 "nbformat": 4,
 "nbformat_minor": 2
}
