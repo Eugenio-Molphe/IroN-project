{
 "cells": [
  {
   "cell_type": "code",
   "execution_count": null,
   "metadata": {},
   "outputs": [],
   "source": [
    "#### Eugenio Perez Molphe Montoya ####\n",
    "#### 28.05.2024 ####\n",
    "#### Some upstream sequences are empty, others doesn't have enough bp for the analysis (40 bp) ####"
   ]
  },
  {
   "cell_type": "code",
   "execution_count": 28,
   "metadata": {},
   "outputs": [],
   "source": [
    "# Import packages and functions\n",
    "import sys\n",
    "\n",
    "# Functions made by Nico\n",
    "sys.path.append('/mnt/mnemo5/eugenio/IroN_project/Scripts/IroN-project/2_BlastN/')\n",
    "from extract_sequence import read_fasta_file"
   ]
  },
  {
   "cell_type": "code",
   "execution_count": 32,
   "metadata": {},
   "outputs": [
    {
     "name": "stdout",
     "output_type": "stream",
     "text": [
      "549\n"
     ]
    }
   ],
   "source": [
    "# Read the fasta file\n",
    "fasta = '/mnt/mnemo5/eugenio/IroN_project/Files/04_Blast_annotations/enterobacteriaceae_all_blast_hists.fa'\n",
    "\n",
    "sequences = read_fasta_file(fasta)\n",
    "print(len(sequences))"
   ]
  },
  {
   "cell_type": "code",
   "execution_count": 33,
   "metadata": {},
   "outputs": [
    {
     "name": "stdout",
     "output_type": "stream",
     "text": [
      "Total number of sequences: 549\n",
      "Number of sequences with >= 40 bp: 283\n",
      "Number of sequences with < 40 bp: 266\n",
      "Percentage of sequences with >= 40 bp: 51.55%\n",
      "Number of sequences in the final cut: 283\n"
     ]
    }
   ],
   "source": [
    "# Now time to loop through the dictionary and remove sequences with <40 bp\n",
    "# Also, I'm going to report the percentage of sequences that made it into the final cut\n",
    "\n",
    "total = 0 # Total number of sequences\n",
    "good = 0 # Number of sequences with >= 40 bp\n",
    "removed = 0 # Number of sequences with < 40 bp\n",
    "removedSeqs = [] # List of sequences with < 40 bp\n",
    "\n",
    "for seq_name, seq in sequences.items():\n",
    "    total += 1\n",
    "    if len(seq) >= 40:\n",
    "        good += 1\n",
    "    else:\n",
    "        removed += 1\n",
    "        removedSeqs.append(seq_name)\n",
    "\n",
    "for seq_name in removedSeqs:\n",
    "    del(sequences[seq_name])\n",
    "\n",
    "percentage = (good / total) * 100\n",
    "print(f'Total number of sequences: {total}')\n",
    "print(f'Number of sequences with >= 40 bp: {good}')\n",
    "print(f'Number of sequences with < 40 bp: {removed}')\n",
    "print(f'Percentage of sequences with >= 40 bp: {percentage:.2f}%')\n",
    "print(f\"Number of sequences in the final cut: {len(sequences)}\")"
   ]
  },
  {
   "cell_type": "code",
   "execution_count": 12,
   "metadata": {},
   "outputs": [],
   "source": [
    "#out = '/mnt/mnemo5/eugenio/IroN_project/Files/05_Upstream_seqs/5_enterobacteriaceae_upstream_sequences_40bp.fa'\n",
    "out = '/mnt/mnemo5/eugenio/IroN_project/Files/10_Escherichia/IroN_seqs_300_bp_trimmed_Escherichia.fa'\n",
    "\n",
    "with open(out, 'w') as f:\n",
    "    for key, value in sequences.items():\n",
    "        f.write(f\">{key}\\n{value}\\n\")"
   ]
  },
  {
   "cell_type": "code",
   "execution_count": 34,
   "metadata": {},
   "outputs": [
    {
     "name": "stdout",
     "output_type": "stream",
     "text": [
      "262\n",
      "266\n"
     ]
    }
   ],
   "source": [
    "#### So I missed some iroN sequences due to a mistake in the script, I'm going to add them manually ####\n",
    "\n",
    "# Read the fasta file obtained through the corrected script\n",
    "fasta = '/mnt/mnemo5/eugenio/IroN_project/Files/04_Blast_annotations/enterobacteriaceae_w_minus.fa'\n",
    "allSequences = read_fasta_file(fasta)\n",
    "\n",
    "minusSequences = {}\n",
    "for seq_name, seq in allSequences.items():\n",
    "    if seq_name in removedSeqs:\n",
    "        minusSequences[seq_name] = seq\n",
    "print(len(minusSequences))\n",
    "print(len(removedSeqs))\n",
    "\n",
    "# Let's save this result\n",
    "out = '/mnt/mnemo5/eugenio/IroN_project/Files/04_Blast_annotations/enterobacteriaceae_minus_400.fa'\n",
    "with open(out, 'w') as f:\n",
    "    for key, value in minusSequences.items():\n",
    "        f.write(f\">{key}\\n{value}\\n\")"
   ]
  }
 ],
 "metadata": {
  "kernelspec": {
   "display_name": "base",
   "language": "python",
   "name": "python3"
  },
  "language_info": {
   "codemirror_mode": {
    "name": "ipython",
    "version": 3
   },
   "file_extension": ".py",
   "mimetype": "text/x-python",
   "name": "python",
   "nbconvert_exporter": "python",
   "pygments_lexer": "ipython3",
   "version": "3.10.14"
  }
 },
 "nbformat": 4,
 "nbformat_minor": 2
}
