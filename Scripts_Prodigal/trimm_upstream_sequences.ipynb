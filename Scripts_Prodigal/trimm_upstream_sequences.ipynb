{
 "cells": [
  {
   "cell_type": "code",
   "execution_count": null,
   "metadata": {},
   "outputs": [],
   "source": [
    "#### Eugenio Perez Molphe Montoya ####\n",
    "#### 28.05.2024 ####\n",
    "#### Some upstream sequences are empty, others doesn't have enough bp for the analysis (40 bp) ####"
   ]
  },
  {
   "cell_type": "code",
   "execution_count": 2,
   "metadata": {},
   "outputs": [],
   "source": [
    "# Import packages and functions\n",
    "import sys\n",
    "\n",
    "# Functions made by Nico\n",
    "sys.path.append('/mnt/mnemo5/eugenio/IroN_project/Scripts/IroN-project/Scripts_BlastN/')\n",
    "from extract_sequence import read_fasta_file"
   ]
  },
  {
   "cell_type": "code",
   "execution_count": 3,
   "metadata": {},
   "outputs": [
    {
     "name": "stdout",
     "output_type": "stream",
     "text": [
      "541\n"
     ]
    }
   ],
   "source": [
    "# Read the fasta file\n",
    "# fasta = '/mnt/mnemo5/eugenio/IroN_project/Files/05_Upstream_seqs/1_iroN_enterobacteriaceae_upstream.fa'\n",
    "# fasta = '/mnt/mnemo5/eugenio/IroN_project/Files/05_Upstream_seqs/1_iroN_salmonella_upstream.fa'\n",
    "fasta = '/mnt/mnemo5/eugenio/IroN_project/Files/XX_Try_800_bp/upstream.fa'\n",
    "sequences = read_fasta_file(fasta)\n",
    "print(len(sequences))"
   ]
  },
  {
   "cell_type": "code",
   "execution_count": 4,
   "metadata": {},
   "outputs": [
    {
     "name": "stdout",
     "output_type": "stream",
     "text": [
      "Total number of sequences: 541\n",
      "Number of sequences with >= 40 bp: 407\n",
      "Number of sequences with < 40 bp: 134\n",
      "Percentage of sequences with >= 40 bp: 75.23%\n",
      "Number of sequences in the final cut: 407\n"
     ]
    }
   ],
   "source": [
    "# Now time to loop through the dictionary and remove sequences with <40 bp\n",
    "# Also, I'm going to report the percentage of sequences that made it into the final cut\n",
    "\n",
    "total = 0 # Total number of sequences\n",
    "good = 0 # Number of sequences with >= 40 bp\n",
    "removed = 0 # Number of sequences with < 40 bp\n",
    "removedSeqs = [] # List of sequences with < 40 bp\n",
    "\n",
    "for seq_name, seq in sequences.items():\n",
    "    total += 1\n",
    "    if len(seq) >= 40:\n",
    "        good += 1\n",
    "    else:\n",
    "        removed += 1\n",
    "        removedSeqs.append(seq_name)\n",
    "\n",
    "for seq_name in removedSeqs:\n",
    "    del(sequences[seq_name])\n",
    "\n",
    "percentage = (good / total) * 100\n",
    "print(f'Total number of sequences: {total}')\n",
    "print(f'Number of sequences with >= 40 bp: {good}')\n",
    "print(f'Number of sequences with < 40 bp: {removed}')\n",
    "print(f'Percentage of sequences with >= 40 bp: {percentage:.2f}%')\n",
    "print(f\"Number of sequences in the final cut: {len(sequences)}\")"
   ]
  }
 ],
 "metadata": {
  "kernelspec": {
   "display_name": "base",
   "language": "python",
   "name": "python3"
  },
  "language_info": {
   "codemirror_mode": {
    "name": "ipython",
    "version": 3
   },
   "file_extension": ".py",
   "mimetype": "text/x-python",
   "name": "python",
   "nbconvert_exporter": "python",
   "pygments_lexer": "ipython3",
   "version": "3.10.12"
  }
 },
 "nbformat": 4,
 "nbformat_minor": 2
}
