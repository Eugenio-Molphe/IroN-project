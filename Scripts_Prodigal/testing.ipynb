{
 "cells": [
  {
   "cell_type": "code",
   "execution_count": 2,
   "metadata": {},
   "outputs": [
    {
     "name": "stdout",
     "output_type": "stream",
     "text": [
      "##gff-version 3\n",
      "\n",
      "new line\n",
      "##sequence-region sequence_1 1 60\n",
      "\n",
      "new line\n",
      "sequence_1  Prodigal:2.6    CDS  1   60   .   +   0   ID=1_1;partial=00;start_type=ATG;...\n",
      "\n",
      "new line\n",
      "##sequence-region sequence_2 1 66\n",
      "\n",
      "new line\n",
      "sequence_2  Prodigal:2.6    CDS  1   66   .   +   0   ID=2_1;partial=00;start_type=GTG;...\n",
      "\n",
      "new line\n"
     ]
    }
   ],
   "source": [
    "with open(\"example.gff\", \"r\") as f:\n",
    "    for line in f:\n",
    "        print(line)\n",
    "        print('new line')"
   ]
  }
 ],
 "metadata": {
  "kernelspec": {
   "display_name": "Python 3",
   "language": "python",
   "name": "python3"
  },
  "language_info": {
   "codemirror_mode": {
    "name": "ipython",
    "version": 3
   },
   "file_extension": ".py",
   "mimetype": "text/x-python",
   "name": "python",
   "nbconvert_exporter": "python",
   "pygments_lexer": "ipython3",
   "version": "3.10.12"
  }
 },
 "nbformat": 4,
 "nbformat_minor": 2
}
