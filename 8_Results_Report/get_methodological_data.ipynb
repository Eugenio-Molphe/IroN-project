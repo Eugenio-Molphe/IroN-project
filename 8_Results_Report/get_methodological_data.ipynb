{
 "cells": [
  {
   "cell_type": "code",
   "execution_count": null,
   "metadata": {},
   "outputs": [],
   "source": [
    "#### Eugenio Perez Molphe Montoya ####\n",
    "#### 17.06.2024 ####\n",
    "#### Create graphs to explore what happened ####\n",
    "'''\n",
    "1. An histogram with the percentage idenntity of the alignments\n",
    "'''"
   ]
  },
  {
   "cell_type": "code",
   "execution_count": 2,
   "metadata": {},
   "outputs": [],
   "source": [
    "### Libraries ###\n",
    "import sys\n",
    "import matplotlib.pyplot as plt\n",
    "import os\n",
    "import numpy as np"
   ]
  },
  {
   "cell_type": "markdown",
   "metadata": {},
   "source": [
    "Histogram of percentage identity"
   ]
  },
  {
   "cell_type": "code",
   "execution_count": null,
   "metadata": {},
   "outputs": [],
   "source": [
    "# Get the percentage identity of the alignments\n",
    "pathDir = '/mnt/mnemo5/eugenio/IroN_project/Files/03_IroN_BLAST_results'\n",
    "blastFiles = os.listdir(pathDir)\n",
    "\n",
    "# Create a list with the percentage identity of the alignments\n",
    "percentageIdentitySalmonella = []\n",
    "percentageIdentityEnterobacteriaceae = []\n",
    "for blastFile in blastFiles:\n",
    "    if blastFile.startswith('GCA_'):\n",
    "        evaluePI = {}\n",
    "        with open(pathDir + '/' + blastFile, 'r') as file:\n",
    "            for line in file:\n",
    "                if line.startswith('#'):\n",
    "                    continue\n",
    "                else:\n",
    "                    line = line.split('\\t')\n",
    "                    evaluePI[float(line[10])] = float(line[2])\n",
    "        if evaluePI:\n",
    "            percentageIdentitySalmonella.append(evaluePI[max(evaluePI.keys())])\n",
    "    else:\n",
    "        evaluePI = {}\n",
    "        with open(pathDir + '/' + blastFile, 'r') as file:\n",
    "            for line in file:\n",
    "                if line.startswith('#'):\n",
    "                    continue\n",
    "                else:\n",
    "                    line = line.split('\\t')\n",
    "                    evaluePI[float(line[10])] = float(line[2])\n",
    "        if evaluePI:\n",
    "            percentageIdentityEnterobacteriaceae.append(evaluePI[max(evaluePI.keys())])\n",
    "\n",
    "print(len(percentageIdentitySalmonella))\n",
    "print(len(percentageIdentityEnterobacteriaceae))\n",
    "print(percentageIdentitySalmonella)"
   ]
  },
  {
   "cell_type": "code",
   "execution_count": null,
   "metadata": {},
   "outputs": [],
   "source": [
    "# Make the histogram\n",
    "plt.hist(percentageIdentityEnterobacteriaceae, bins=30, color='#8E394E', alpha=0.7)\n",
    "plt.xlabel('Percentage identity')\n",
    "plt.ylabel('Number of alignments')\n",
    "plt.title('Percentage identity of the alignments (max evalue)')\n",
    "plt.show()"
   ]
  },
  {
   "cell_type": "code",
   "execution_count": null,
   "metadata": {},
   "outputs": [],
   "source": [
    "import statistics\n",
    "mean_value = statistics.mean(percentageIdentitySalmonella)\n",
    "median_value = statistics.median(percentageIdentitySalmonella)\n",
    "mode_value = statistics.mean(percentageIdentitySalmonella)\n",
    "\n",
    "print(mean_value)\n",
    "print(median_value)\n",
    "print(mode_value)"
   ]
  },
  {
   "cell_type": "markdown",
   "metadata": {},
   "source": [
    "See if there's relation between sequence length and number of promoters found"
   ]
  },
  {
   "cell_type": "code",
   "execution_count": 22,
   "metadata": {},
   "outputs": [],
   "source": [
    "# Let's create a numpy array to save our results\n",
    "lengthPromoters = np.zeros((0,2))\n",
    "\n",
    "# Column 0 is length, column 1 is the number of promoters found"
   ]
  },
  {
   "cell_type": "code",
   "execution_count": null,
   "metadata": {},
   "outputs": [],
   "source": [
    "pathDir = '/mnt/mnemo5/eugenio/IroN_project/Files/06_Promoters/BProm_results_salmonella'\n",
    "Files = os.listdir(pathDir)\n",
    "\n",
    "# Create a list with the percentage identity of the alignments\n",
    "\n",
    "for BPromfile in Files:\n",
    "    with open(pathDir + '/' + BPromfile, 'r') as file:\n",
    "        lines = file.readlines()\n",
    "    # Let' obtain the length of the sequence\n",
    "    seqLength = int(lines[1].split(\" \")[-1].strip())\n",
    "\n",
    "    # Let's obtain the number of predicted promoters\n",
    "    startCounting = False\n",
    "    numberPromoters = 0\n",
    "    for i in lines:\n",
    "        if i.startswith(\"For\"):\n",
    "            startCounting = True\n",
    "            continue\n",
    "        if startCounting:\n",
    "            numberPromoters += 1\n",
    "    lengthPromoters = np.vstack([lengthPromoters, np.array([seqLength, numberPromoters])])\n",
    "\n",
    "print(lengthPromoters.shape)\n",
    "print(lengthPromoters[0:10, :])\n"
   ]
  },
  {
   "cell_type": "code",
   "execution_count": null,
   "metadata": {},
   "outputs": [],
   "source": [
    "plt.hist(lengthPromoters[: , 0], bins=30, color='#8E394E', alpha=0.7)\n",
    "plt.xlabel('Sequence length')\n",
    "plt.ylabel('Number of samples')\n",
    "plt.title('Sequence length of the upstream regions')\n",
    "plt.show()"
   ]
  },
  {
   "cell_type": "code",
   "execution_count": null,
   "metadata": {},
   "outputs": [],
   "source": [
    "column_to_check = 0\n",
    "unique_numbers = np.unique(lengthPromoters[:, column_to_check])\n",
    "\n",
    "print(\"Unique numbers in column {}: {}\".format(column_to_check, unique_numbers))"
   ]
  },
  {
   "cell_type": "code",
   "execution_count": null,
   "metadata": {},
   "outputs": [],
   "source": [
    "### This is weird, all the sequences have the same length, let's check the original fasta file\n",
    "pathEntero = '/mnt/mnemo5/eugenio/IroN_project/Files/05_Upstream_seqs/enterobacteriaceae_upstream_seqs_300_bp_trimmed.fa'\n",
    "pathSalmo = '/mnt/mnemo5/eugenio/IroN_project/Files/05_Upstream_seqs/salmonella_upstream_seqs_300_bp_trimmed.fa'\n",
    "\n",
    "seqLengths = []\n",
    "with open(pathEntero, 'r') as file:\n",
    "    lines = file.readlines()\n",
    "    for line in lines:\n",
    "        if line.startswith('>'):\n",
    "            continue\n",
    "        else:\n",
    "            seqLengths.append(len(line.strip()))\n",
    "\n",
    "with open(pathSalmo, 'r') as file:\n",
    "    lines = file.readlines()\n",
    "    for line in lines:\n",
    "        if line.startswith('>'):\n",
    "            continue\n",
    "        else:\n",
    "            seqLengths.append(len(line.strip()))\n",
    "\n",
    "print(np.unique(seqLengths))\n",
    "\n",
    "### So basically BProm is taking the first 80 bp of the sequence and ignoring the rest\n",
    "### BProm: 80\n",
    "### Raw seq length: [126 129 132 152 168 174 186 188 189 197 201 247 253 264 271 279 298 300]"
   ]
  },
  {
   "cell_type": "code",
   "execution_count": null,
   "metadata": {},
   "outputs": [],
   "source": [
    "plt.hist(seqLengths, bins=30, color='#8E394E', alpha=0.7)\n",
    "plt.xlabel('Sequence length')\n",
    "plt.ylabel('Number of samples')\n",
    "plt.title('Raw sequence length of the upstream regions')\n",
    "plt.show()"
   ]
  },
  {
   "cell_type": "markdown",
   "metadata": {},
   "source": [
    "Histogram of LDF"
   ]
  },
  {
   "cell_type": "code",
   "execution_count": 15,
   "metadata": {},
   "outputs": [],
   "source": [
    "def read_LDFs(path, LDFlist):\n",
    "    with open(path, 'r') as file:\n",
    "        lines = file.readlines()\n",
    "    ldfValue = lines[4].split(' ')[-1].strip()\n",
    "    LDFlist.append(float(ldfValue))\n",
    "\n",
    "LDFs = []\n",
    "inputDir = '/mnt/mnemo5/eugenio/IroN_project/Files/06_Promoters/BProm_results_enterobacteriaceae'\n",
    "fileList = [inputDir + '/' + file for file in os.listdir(inputDir)]\n",
    "\n",
    "for file in fileList:\n",
    "    read_LDFs(file, LDFs)\n",
    "\n",
    "inputDir = '/mnt/mnemo5/eugenio/IroN_project/Files/06_Promoters/BProm_results_salmonella'\n",
    "fileList = [inputDir + '/' + file for file in os.listdir(inputDir)]\n",
    "\n",
    "for file in fileList:\n",
    "    read_LDFs(file, LDFs)"
   ]
  },
  {
   "cell_type": "code",
   "execution_count": null,
   "metadata": {},
   "outputs": [],
   "source": [
    "plt.hist(LDFs, bins=50, color='#8E394E', alpha=0.7)\n",
    "plt.xlabel('LDF score')\n",
    "plt.ylabel('Number of samples')\n",
    "plt.title('LDF scores of the predicted promoters')\n",
    "plt.show()"
   ]
  },
  {
   "cell_type": "markdown",
   "metadata": {},
   "source": [
    "Position of predicted promoters"
   ]
  },
  {
   "cell_type": "code",
   "execution_count": 9,
   "metadata": {},
   "outputs": [],
   "source": [
    "#### For the positions of the predicted promoters\n",
    "def read_positions(path, positionsList):\n",
    "    with open(path, 'r') as file:\n",
    "        fileLines = file.readlines()\n",
    "    # First, I'll filter the lines before the first promoter\n",
    "    startProcessing = False\n",
    "    filteredLines = []\n",
    "    for line in fileLines:\n",
    "        if line.startswith(\"For promoter\"):\n",
    "            startProcessing = True\n",
    "        if startProcessing:\n",
    "            filteredLines.append(line)\n",
    "\n",
    "    # Then, I'll get the promoters\n",
    "    promoters = []\n",
    "    currentPromoter = []\n",
    "    # Iterate over the lines and dump the possible promoters into the currentPromoter list\n",
    "    for line in filteredLines:\n",
    "        if line.startswith(\"For promoter\"):\n",
    "            promoters.append(currentPromoter)\n",
    "            currentPromoter = []\n",
    "            continue\n",
    "        # Skip adding the \"For promoter\" line to the current section, we only care about the identified promoters\n",
    "        currentPromoter.append(line)\n",
    "\n",
    "    # Don't forget to add the last section if it exists\n",
    "    if currentPromoter:\n",
    "        promoters.append(currentPromoter)\n",
    "        # Now, let's get the list of the most possible promoters per each identified promoters\n",
    "    # In other words, the promoters influencing iroN\n",
    "    iroNpromoters = []\n",
    "\n",
    "    for promoter in promoters:\n",
    "        # I'll create a dictionary to store the information: keys as scores and values as the name of the promoter\n",
    "        for oligo in promoter:\n",
    "            oligo = oligo.strip().split(\" \")\n",
    "            if oligo[-1] != 'sites':\n",
    "                try:\n",
    "                    distance = int(oligo[10])\n",
    "                except:\n",
    "                    distance = int(oligo[11])\n",
    "            iroNpromoters.append(distance)\n",
    "    \n",
    "    positionsList += iroNpromoters\n",
    "           \n",
    "    return positionsList\n",
    "\n",
    "positionsList = []\n",
    "inputDir = '/mnt/mnemo5/eugenio/IroN_project/Files/06_Promoters/BProm_results_enterobacteriaceae'\n",
    "fileList = [inputDir + '/' + file for file in os.listdir(inputDir)]\n",
    "\n",
    "for file in fileList:\n",
    "    read_positions(file, positionsList)\n",
    "\n",
    "inputDir = '/mnt/mnemo5/eugenio/IroN_project/Files/06_Promoters/BProm_results_salmonella'\n",
    "fileList = [inputDir + '/' + file for file in os.listdir(inputDir)]\n",
    "\n",
    "for file in fileList:\n",
    "    read_positions(file, positionsList)"
   ]
  },
  {
   "cell_type": "code",
   "execution_count": null,
   "metadata": {},
   "outputs": [],
   "source": [
    "print(positionsList)"
   ]
  },
  {
   "cell_type": "code",
   "execution_count": null,
   "metadata": {},
   "outputs": [],
   "source": [
    "plt.hist(positionsList, bins=50, color='#8E394E', alpha=0.7)\n",
    "plt.xlabel('# bases upstream from TSS')\n",
    "plt.ylabel('Number of samples')\n",
    "plt.title('Upstream positions of the predicted promoters')\n",
    "plt.show()"
   ]
  },
  {
   "cell_type": "code",
   "execution_count": null,
   "metadata": {},
   "outputs": [],
   "source": [
    "### Check the proportion of the promoters within 40 bp upstream\n",
    "promoters40bp = [i for i in positionsList if i <= 40]\n",
    "print(len(promoters40bp))\n",
    "print(len(positionsList))   \n",
    "print(len(promoters40bp) / len(positionsList))"
   ]
  }
 ],
 "metadata": {
  "kernelspec": {
   "display_name": "base",
   "language": "python",
   "name": "python3"
  },
  "language_info": {
   "codemirror_mode": {
    "name": "ipython",
    "version": 3
   },
   "file_extension": ".py",
   "mimetype": "text/x-python",
   "name": "python",
   "nbconvert_exporter": "python",
   "pygments_lexer": "ipython3",
   "version": "3.10.14"
  }
 },
 "nbformat": 4,
 "nbformat_minor": 2
}
