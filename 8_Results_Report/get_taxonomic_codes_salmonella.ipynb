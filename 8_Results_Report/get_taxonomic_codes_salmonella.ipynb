{
 "cells": [
  {
   "cell_type": "code",
   "execution_count": null,
   "metadata": {},
   "outputs": [],
   "source": [
    "#### Eugenio Perez Molphe Montoya ####\n",
    "#### 17.06.2024 ####\n",
    "#### Create a file of taxonomy_identity_numbers for the Salmonella species ####"
   ]
  },
  {
   "cell_type": "code",
   "execution_count": 1,
   "metadata": {},
   "outputs": [],
   "source": [
    "### Import packages ###\n",
    "import os\n",
    "import pandas as pd"
   ]
  },
  {
   "cell_type": "code",
   "execution_count": 2,
   "metadata": {},
   "outputs": [],
   "source": [
    "#### Remove the duplicates from the metadata ####\n",
    "\n",
    "# I have no writing access to Nico's directory, so I will copy the metadata file to my directory but this new metadata will have no duplicates\n",
    "out = '/mnt/mnemo5/eugenio/IroN_project/Files/07_Final_Report/salmonella_metadata.txt'\n",
    "\n",
    "# Read the metadata file\n",
    "pathMetadata = '/mnt/mnemo6/nnaepf/for_eugenio/data/salmonella_genomes/salmonella_metadata.txt'\n",
    "metadata = pd.read_csv(pathMetadata)\n",
    "\n",
    "# Read the list of duplicates\n",
    "pathDuplicates = '/mnt/mnemo6/nnaepf/for_eugenio/data/salmonella_genomes/duplicate_genomes.txt'\n",
    "with open(pathDuplicates, 'r') as f:\n",
    "    duplicates = f.readlines()\n",
    "duplicates = [x.strip() for x in duplicates]\n",
    "\n",
    "# Remove the duplicates\n",
    "metadata = metadata[~metadata['accession'].isin(duplicates)]\n",
    "\n",
    "# Save the metadata without duplicates\n",
    "metadata.to_csv(out, sep=',', index=False)"
   ]
  },
  {
   "cell_type": "code",
   "execution_count": null,
   "metadata": {},
   "outputs": [
    {
     "ename": "TypeError",
     "evalue": "unhashable type: 'slice'",
     "output_type": "error",
     "traceback": [
      "\u001b[0;31m---------------------------------------------------------------------------\u001b[0m",
      "\u001b[0;31mTypeError\u001b[0m                                 Traceback (most recent call last)",
      "Cell \u001b[0;32mIn[3], line 30\u001b[0m\n\u001b[1;32m     27\u001b[0m     headerToNCBIcode[key] \u001b[38;5;241m=\u001b[39m headerToNCBIcode[key]\u001b[38;5;241m.\u001b[39msplit(\u001b[38;5;124m'\u001b[39m\u001b[38;5;124m_\u001b[39m\u001b[38;5;124m'\u001b[39m)[\u001b[38;5;241m0\u001b[39m] \u001b[38;5;241m+\u001b[39m \u001b[38;5;124m'\u001b[39m\u001b[38;5;124m_\u001b[39m\u001b[38;5;124m'\u001b[39m \u001b[38;5;241m+\u001b[39m headerToNCBIcode[key]\u001b[38;5;241m.\u001b[39msplit(\u001b[38;5;124m'\u001b[39m\u001b[38;5;124m_\u001b[39m\u001b[38;5;124m'\u001b[39m)[\u001b[38;5;241m1\u001b[39m]\n\u001b[1;32m     29\u001b[0m \u001b[38;5;66;03m# Print the results\u001b[39;00m\n\u001b[0;32m---> 30\u001b[0m \u001b[38;5;28mprint\u001b[39m(\u001b[43mheaderToNCBIcode\u001b[49m\u001b[43m[\u001b[49m\u001b[38;5;241;43m0\u001b[39;49m\u001b[43m:\u001b[49m\u001b[38;5;241;43m10\u001b[39;49m\u001b[43m]\u001b[49m)\n",
      "\u001b[0;31mTypeError\u001b[0m: unhashable type: 'slice'"
     ]
    }
   ],
   "source": [
    "### Create a dictionary with the following structure: ###\n",
    "# {header_code: NCBI_taxonomic_code}\n",
    "\n",
    "# Sample data: list of FASTA file names\n",
    "directory = '/mnt/mnemo6/nnaepf/for_eugenio/data/salmonella_genomes/ncbi_dataset/genomes'\n",
    "\n",
    "allFastaFiles = os.listdir(directory)\n",
    "\n",
    "# Create an empty dictionary to hold the mappings\n",
    "headerToNCBIcode = {}\n",
    "\n",
    "# Iterate through each FASTA file\n",
    "for file_name in allFastaFiles:\n",
    "    # Check if file exists to avoid errors\n",
    "    with open(directory + '/' + file_name, 'r') as file:\n",
    "        # Let's extract the codes in the headers of the fasta file\n",
    "        lines = file.readlines()\n",
    "        headersFastaFile = [line for line in lines if line.startswith('>')]\n",
    "        headersFastaFile = [header[1:].strip() for header in headersFastaFile]\n",
    "        headersFastaFile = [header.split(' ')[0] for header in headersFastaFile]\n",
    "        # Add the mapping to the dictionary\n",
    "        for header in headersFastaFile:\n",
    "            headerToNCBIcode[header] = file_name\n",
    "\n",
    "# Only get the NCBI taxonomic code for the file names\n",
    "for key in headerToNCBIcode:\n",
    "    headerToNCBIcode[key] = headerToNCBIcode[key].split('_')[0] + '_' + headerToNCBIcode[key].split('_')[1]\n",
    "\n",
    "# Print the results\n",
    "print(list(headerToNCBIcode.keys())[0:10])"
   ]
  },
  {
   "cell_type": "code",
   "execution_count": 7,
   "metadata": {},
   "outputs": [],
   "source": [
    "## Create a file with the header code and NCBI taxonomic code for the Salmonella species ##\n",
    "# Save the dictionary to a file\n",
    "out = '/mnt/mnemo5/eugenio/IroN_project/Files/07_Final_Report/Salmonella_header_NCBIcode.csv'\n",
    "with open(out, 'w') as f:\n",
    "    for key in headerToNCBIcode:\n",
    "        f.write(key + ',' + headerToNCBIcode[key] + '\\n')"
   ]
  },
  {
   "cell_type": "code",
   "execution_count": 4,
   "metadata": {},
   "outputs": [],
   "source": [
    "## In case I have already the header code and NCBI code file, I can read it ##\n",
    "# Read the file\n",
    "path = '/mnt/mnemo5/eugenio/IroN_project/Files/07_Final_Report/Salmonella_header_NCBIcode.csv'\n",
    "headerToNCBIcode = {}\n",
    "with open(path, 'r') as f:\n",
    "    lines = f.readlines()\n",
    "    for line in lines:\n",
    "        header, NCBIcode = line.strip().split(',')\n",
    "        headerToNCBIcode[header] = NCBIcode"
   ]
  },
  {
   "cell_type": "code",
   "execution_count": null,
   "metadata": {},
   "outputs": [],
   "source": [
    "### Read the fasta file of the Salmonella species and extract the headers ###\n",
    "\n",
    "# The path of the fasta file\n",
    "pathFasta = '/mnt/mnemo5/eugenio/IroN_project/Files/04_Blast_annotations/salmonella_all_hits.fa'\n",
    "pathListofTaxonomyCodes = '/mnt/mnemo5/eugenio/IroN_project/Files/04_Blast_annotations/salmonella_blasted_sequences.ncbi_codes.txt' # Output file\n",
    "\n",
    "# Open the file\n",
    "with open(pathFasta, 'r') as file:\n",
    "    # Read the file\n",
    "    lines = file.readlines()\n",
    "    # Extract the headers\n",
    "    headersFastaFile = [line for line in lines if line.startswith('>')]\n",
    "    # Remove the character '>' and the newline character\n",
    "    headersFastaFile = [header[1:].strip() for header in headersFastaFile]\n",
    "    # Remove everything after the first space\n",
    "    headersFastaFile = [header.split(' ')[0] for header in headersFastaFile]\n",
    "\n",
    "# Time to replace the headers with the taxonomic code\n",
    "\n",
    "salmonellaAccesions = []\n",
    "for i in headersFastaFile:\n",
    "    if i in headerToNCBIcode:\n",
    "        salmonellaAccesions.append(headerToNCBIcode[i])\n",
    "\n",
    "print(len(salmonellaAccesions))\n",
    "\n",
    "# Save it as a list and save the list as a file\n",
    "\n",
    "with open(pathListofTaxonomyCodes, 'w') as file:\n",
    "    for header in salmonellaAccesions:\n",
    "        file.write(header + '\\n')"
   ]
  },
  {
   "cell_type": "markdown",
   "metadata": {},
   "source": [
    "I already run this code, so everything is ready for the following script: get_taxonomic_information.ipynb\n",
    "9.07.2024"
   ]
  },
  {
   "cell_type": "markdown",
   "metadata": {},
   "source": [
    "To obtain E. coli accesion codes"
   ]
  },
  {
   "cell_type": "code",
   "execution_count": null,
   "metadata": {},
   "outputs": [],
   "source": [
    "#### 15.10.2024 ####\n",
    "#### I do the same for the E. coli species ####\n",
    "\n",
    "# I'll read the NCBI codes for the E. coli species from the metadata file\n",
    "pathFasta = '/mnt/mnemo5/eugenio/IroN_project/Files/10_Escherichia/Escherichia_iroN.fa'\n",
    "# To find the assembly codes for the headers that are not assembly codes, I need to search for the headers in the FASTA files\n",
    "pathDirectory = '/mnt/mnemo5/eugenio/IroN_project/Files/10_Escherichia/Genomes'\n",
    "# The output file\n",
    "pathListofTaxonomyCodes = '/mnt/mnemo5/eugenio/IroN_project/Files/10_Escherichia/Results/Escherichia_contig-NCBI_codes.csv'\n",
    "\n",
    "# Open the file\n",
    "with open(pathFasta, 'r') as file:\n",
    "    # Read the file\n",
    "    lines = file.readlines()\n",
    "    # Extract the headers\n",
    "    headersFastaFile = [line for line in lines if line.startswith('>')]\n",
    "    # Remove the character '>' and the newline character\n",
    "    headersFastaFile = [header[1:].strip() for header in headersFastaFile]\n",
    "    # Remove everything after the first space\n",
    "    headersFastaFile = [header.split(' ')[0] for header in headersFastaFile]\n",
    "\n",
    "# Now, we are in a bit of a sticky situation: some headers are actually the name of the contig, not the assembly code, so I need to search for the contig in the fasta files\n",
    "# The functions for this thing\n",
    "def get_fasta_files(directory):\n",
    "    \"\"\"Returns a list of all FASTA files in the directory.\"\"\"\n",
    "    return [f for f in os.listdir(directory) if f.endswith('.fna') or f.endswith('.fa')]\n",
    "\n",
    "def is_gca_string(s):\n",
    "    \"\"\"Checks if a string starts with 'GCA_' indicating it is a valid assembly name.\"\"\"\n",
    "    return s.startswith('GCA_')\n",
    "\n",
    "def find_string_in_fasta(fasta_file, search_string):\n",
    "    \"\"\"Searches for the presence of a specific string (header) in a FASTA file.\"\"\"\n",
    "    with open(fasta_file, 'r') as f:\n",
    "        for line in f:\n",
    "            if search_string in line:\n",
    "                return True\n",
    "    return False\n",
    "\n",
    "def replace_with_fasta_name(strings, fasta_directory):\n",
    "    \"\"\"Replaces non-GCA strings with the names of the FASTA files they belong to.\"\"\"\n",
    "    fasta_files = get_fasta_files(fasta_directory)\n",
    "    contig_codes = {}\n",
    "    \n",
    "    for i, s in enumerate(strings):\n",
    "        if not is_gca_string(s):  # If the string is not a GCA_ string (header of contig)\n",
    "            for fasta_file in fasta_files:\n",
    "                fasta_path = os.path.join(fasta_directory, fasta_file)\n",
    "                if find_string_in_fasta(fasta_path, s):\n",
    "                    NCBIcode = fasta_file.split('_')[0] + '_' + fasta_file.split('_')[1]\n",
    "                    contig_codes[s] = NCBIcode # Create a dictionary (header: NCBI code)\n",
    "\n",
    "                    strings[i] = fasta_file  # Replace header with FASTA file name\n",
    "                    print(f\"Replaced {s} with {NCBIcode}\")\n",
    "                    break\n",
    "\n",
    "    strings = [code.split('_')[0] + '_' + code.split('_')[1] for code in strings]  # Remove the file name and keep only the assembly code\n",
    "    return contig_codes # I want right now to return the dictionary\n",
    "\n",
    "# Now let's get the assembly codes for the headers that are not assembly codes\n",
    "updatedCodes = replace_with_fasta_name(headersFastaFile, pathDirectory)\n",
    "\n",
    "# Save the updated codes\n",
    "with open(pathListofTaxonomyCodes, 'w') as file:\n",
    "    for contigName, code in updatedCodes.items():\n",
    "        file.write(contigName + ',' + code +  '\\n')"
   ]
  },
  {
   "cell_type": "code",
   "execution_count": null,
   "metadata": {},
   "outputs": [],
   "source": [
    "# Change the name of the E. coli genomes of the promoters df to the assembly codes\n",
    "\n",
    "# The input and output paths\n",
    "pathPromoters = '/mnt/mnemo5/eugenio/IroN_project/Files/10_Escherichia/promoters_df.csv'\n",
    "outputPath = '/mnt/mnemo5/eugenio/IroN_project/Files/10_Escherichia/Results/promoters_w_accession_codes_df.csv'\n",
    "\n",
    "# Read the promoters df\n",
    "promoters = pd.read_csv(pathPromoters, sep='\\t')\n",
    "\n",
    "# Get the original names\n",
    "originalNames = promoters['Unnamed: 0'].tolist()\n",
    "\n",
    "# Replace the names with contig names\n",
    "updatedNames = replace_with_fasta_name(originalNames, pathDirectory)\n",
    "\n",
    "# Replace the names with incomplete assembly codes\n",
    "for i, code in enumerate(updatedNames):\n",
    "    if '.' not in code:\n",
    "        updatedNames[i] = next((item for item in updatedCodes if item.startswith(code)), code)\n",
    "\n",
    "print(updatedNames)\n",
    "\n",
    "# Update the promoters df\n",
    "promoters['Unnamed: 0'] = updatedNames\n",
    "\n",
    "# Save the updated promoters df\n",
    "promoters.to_csv(outputPath, index=False)"
   ]
  },
  {
   "cell_type": "code",
   "execution_count": null,
   "metadata": {},
   "outputs": [],
   "source": [
    "# Now let's report in our E. coli df the genomes that contain the iroN gene and which promoters do they have\n",
    "\n",
    "# The input and output paths\n",
    "pathPromoters = '/mnt/mnemo5/eugenio/IroN_project/Files/10_Escherichia/Results/promoters_w_accession_codes_df.csv'"
   ]
  }
 ],
 "metadata": {
  "kernelspec": {
   "display_name": "base",
   "language": "python",
   "name": "python3"
  },
  "language_info": {
   "codemirror_mode": {
    "name": "ipython",
    "version": 3
   },
   "file_extension": ".py",
   "mimetype": "text/x-python",
   "name": "python",
   "nbconvert_exporter": "python",
   "pygments_lexer": "ipython3",
   "version": "3.10.14"
  }
 },
 "nbformat": 4,
 "nbformat_minor": 2
}
