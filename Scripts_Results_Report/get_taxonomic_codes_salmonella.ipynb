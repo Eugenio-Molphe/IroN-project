{
 "cells": [
  {
   "cell_type": "code",
   "execution_count": null,
   "metadata": {},
   "outputs": [],
   "source": [
    "#### Eugenio Perez Molphe Montoya ####\n",
    "#### 17.06.2024 ####\n",
    "#### Create a file of taxonomy_identity_numbers for the Salmonella species ####"
   ]
  },
  {
   "cell_type": "code",
   "execution_count": null,
   "metadata": {},
   "outputs": [],
   "source": [
    "### Import packages ###\n",
    "import os\n",
    "import pandas as pd"
   ]
  },
  {
   "cell_type": "code",
   "execution_count": null,
   "metadata": {},
   "outputs": [],
   "source": [
    "#### Remove the duplicates from the metadata ####\n",
    "\n",
    "# Read the metadata file\n",
    "pathMetadata = ''\n",
    "metadata = pd.read_csv(pathMetadata, sep='\\t')\n",
    "\n",
    "# Read the list of duplicates\n",
    "pathDuplicates = ''\n",
    "with open(pathDuplicates, 'r') as f:\n",
    "    duplicates = f.readlines()\n",
    "\n",
    "# Remove the duplicates\n",
    "metadata = metadata[~metadata['accession'].isin(duplicates)]\n",
    "\n",
    "# Save the metadata without duplicates\n",
    "out = ''\n",
    "metadata.to_csv(pathMetadata, sep=',', index=False)"
   ]
  },
  {
   "cell_type": "code",
   "execution_count": null,
   "metadata": {},
   "outputs": [],
   "source": [
    "### Create a dictionary with the following structure: ###\n",
    "# {header_code: NCBI_taxonomic_code}\n",
    "\n",
    "# Sample data: list of FASTA file names\n",
    "directory = '/mnt/mnemo6/nnaepf/for_eugenio/data/salmonella_genomes/ncbi_dataset/genomes'\n",
    "\n",
    "allFastaFiles = os.listdir(directory)\n",
    "\n",
    "# Create an empty dictionary to hold the mappings\n",
    "headerToNCBIcode = {}\n",
    "\n",
    "# Iterate through each FASTA file\n",
    "for file_name in allFastaFiles:\n",
    "    # Check if file exists to avoid errors\n",
    "    with open(directory + '/' + file_name, 'r') as file:\n",
    "        header = file.readline().strip()  # Read the first line and strip any trailing newlines or spaces\n",
    "        # Extract only the genome code at the beginning fo the header and removes the character '>'\n",
    "        header = header.split(' ')[0][1:]\n",
    "        # Add the mapping to the dictionary\n",
    "        headerToNCBIcode[header] = file_name\n",
    "\n",
    "# Only get the NCBI taxonomic code for the file names\n",
    "for key in headerToNCBIcode:\n",
    "    headerToNCBIcode[key] = headerToNCBIcode[key].split('_')[0] + '_' + headerToNCBIcode[key].split('_')[1]\n",
    "\n",
    "# Print the results\n",
    "print(headerToNCBIcode)"
   ]
  },
  {
   "cell_type": "code",
   "execution_count": null,
   "metadata": {},
   "outputs": [],
   "source": [
    "### Read the fasta file of the Salmonella species and extract the headers ###\n",
    "\n",
    "# The path of the fasta file\n",
    "pathFasta = ''\n",
    "pathListofTaxonomyCodes = '' # Output file\n",
    "\n",
    "# Open the file\n",
    "with open(pathFasta, 'r') as file:\n",
    "    # Read the file\n",
    "    lines = file.readlines()\n",
    "    # Extract the headers\n",
    "    headersFastaFile = [line for line in lines if line.startswith('>')]\n",
    "    # Remove the character '>' and the newline character\n",
    "    headersFastaFile = [header[1:].strip() for header in headersFastaFile]\n",
    "    # Remove everything after the first space\n",
    "    headersFastaFile = [header.split(' ')[0] for header in headersFastaFile]\n",
    "\n",
    "# Time to replace the headers with the taxonomic code\n",
    "for i in headersFastaFile:\n",
    "    if i in headerToNCBIcode:\n",
    "        headersFastaFile[headersFastaFile.index(i)] = headerToNCBIcode[i]\n",
    "\n",
    "print(headersFastaFile[0:10])\n",
    "\n",
    "# Save it as a list and save the list as a file\n",
    "\n",
    "with open(pathListofTaxonomyCodes, 'w') as file:\n",
    "    for header in headersFastaFile:\n",
    "        file.write(header + '\\n')"
   ]
  }
 ],
 "metadata": {
  "kernelspec": {
   "display_name": "base",
   "language": "python",
   "name": "python3"
  },
  "language_info": {
   "codemirror_mode": {
    "name": "ipython",
    "version": 3
   },
   "file_extension": ".py",
   "mimetype": "text/x-python",
   "name": "python",
   "nbconvert_exporter": "python",
   "pygments_lexer": "ipython3",
   "version": "3.10.14"
  }
 },
 "nbformat": 4,
 "nbformat_minor": 2
}
